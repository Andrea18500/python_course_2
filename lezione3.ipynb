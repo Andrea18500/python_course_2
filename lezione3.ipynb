{
 "cells": [
  {
   "cell_type": "markdown",
   "metadata": {},
   "source": [
    "## Matrici fatte con le liste"
   ]
  },
  {
   "cell_type": "code",
   "execution_count": null,
   "metadata": {},
   "outputs": [],
   "source": [
    "matrice = [[1, 2, 3], [4, 5, 6], [7, 8, 9]]"
   ]
  },
  {
   "cell_type": "code",
   "execution_count": null,
   "metadata": {},
   "outputs": [
    {
     "name": "stdout",
     "output_type": "stream",
     "text": [
      "Elemento nella seconda riga e terza colonna: 6\n",
      "[1, 2, 3]\n",
      "[4, 5, 6]\n",
      "[7, 8, 9]\n"
     ]
    }
   ],
   "source": [
    "# Creazione di una matrice 3x3 utilizzando liste\n",
    "matrice = [\n",
    "    [1, 2, 3],\n",
    "    [4, 5, 6],\n",
    "    [7, 8, 9],\n",
    "    [3, 4, 6]\n",
    "]\n",
    "\n",
    "# Accesso a un elemento della matrice (ad esempio, elemento nella seconda riga e terza colonna)\n",
    "elemento = matrice[1][2]\n",
    "print(\"Elemento nella seconda riga e terza colonna:\", elemento)\n",
    "\n",
    "# Stampa della matrice\n",
    "for riga in matrice[:-1]:\n",
    "    print(riga)"
   ]
  },
  {
   "cell_type": "markdown",
   "metadata": {},
   "source": [
    "## Esempio di For loops"
   ]
  },
  {
   "cell_type": "code",
   "execution_count": 7,
   "metadata": {},
   "outputs": [
    {
     "name": "stdout",
     "output_type": "stream",
     "text": [
      "Ho trovato: mela\n",
      "Ho trovato: banana\n",
      "Ho trovato: ciliegia\n",
      "Questo è il numero: 1\n",
      "Questo è il numero: 3\n",
      "Questo è il numero: 5\n",
      "Questo è il numero: 7\n",
      "Questo è il numero: 9\n"
     ]
    }
   ],
   "source": [
    "# Esempio di for loop su una lista di stringhe\n",
    "frutti = [\"mela\", \"banana\", \"ciliegia\"]\n",
    "for frutto in frutti:\n",
    "    print(\"Ho trovato:\", frutto)\n",
    "\n",
    "# Esempio di for loop con range\n",
    "for numero in range(1, 10, 2):\n",
    "    print(\"Questo è il numero:\", numero)"
   ]
  },
  {
   "cell_type": "code",
   "execution_count": 9,
   "metadata": {},
   "outputs": [
    {
     "data": {
      "text/plain": [
       "5"
      ]
     },
     "execution_count": 9,
     "metadata": {},
     "output_type": "execute_result"
    }
   ],
   "source": [
    "lista = range(1, 10, 2)\n",
    "lista[2]"
   ]
  },
  {
   "cell_type": "markdown",
   "metadata": {},
   "source": [
    "## While loop"
   ]
  },
  {
   "cell_type": "code",
   "execution_count": null,
   "metadata": {},
   "outputs": [],
   "source": [
    "# Fibonacci series up to 1000   \n",
    "a, b = 0, 1\n",
    "while a < 1000:\n",
    "    print(a, end=',')\n",
    "    a, b = b, a+b\n",
    "    c = a\n",
    "    a = b\n",
    "    b = c+b"
   ]
  },
  {
   "cell_type": "markdown",
   "metadata": {},
   "source": [
    "**Quando usare i For e quando i While**\n",
    "- I cicli for vengono principalmente utilizzati per iterare un numero conosciuto di volte, il che è comune quando si elaborano collezioni di dati con un numero specifico di elementi.\n",
    "- I cicli while vengono comunemente utilizzati per iterare un numero sconosciuto di volte, il che è utile quando il numero di iterazioni dipende da una condizione data."
   ]
  },
  {
   "cell_type": "markdown",
   "metadata": {},
   "source": [
    "\n",
    "## Problema: Cicli While\n",
    "\n",
    "**Consegna: Simulazione di un Termometro Elettronico**\n",
    "\n",
    "**Obiettivo**\n",
    "Creare un programma che simuli il funzionamento di un termometro elettronico che registra temperature corporee multiple fino a quando l'utente decide di terminare le misurazioni.\n",
    "\n",
    "**Scenario**\n",
    "Un termometro elettronico moderno può effettuare misurazioni in sequenza e memorizzarle. In questa simulazione semplificata, immagina che il termometro continui a registrare temperature fino a quando l'utente preme un pulsante di stop che, nel nostro modello, è rappresentato dall'inserimento di un valore negativo (come ad esempio -1).\n",
    "\n",
    "**Requisiti**\n",
    "1. Implementare un ciclo `while` che continui a chiedere all'utente di inserire valori di temperatura corporea (numeri con decimali) fino a quando non viene inserito un valore negativo.\n",
    "2. Memorizzare tutti i valori di temperatura validi (positivi) in una lista.\n",
    "3. Quando l'utente \"preme il pulsante\" (inserisce un valore negativo):\n",
    "   - Mostrare il numero totale di misurazioni effettuate\n",
    "   - Calcolare e visualizzare la temperatura media\n",
    "   - Effettuare una valutazione: se la media è superiore a 37.5°C, mostrare \"Febbre Alta!\", altrimenti \"Temperatura nella norma.\"\n",
    "4. Gestire anche il caso in cui non venga inserita alcuna temperatura.\n",
    "\n",
    "**Suggerimenti**\n",
    "- Utilizza un ciclo `while True` con una condizione di `break` quando viene inserito un valore negativo\n",
    "- La funzione `input()` combinata con `float()` permette di acquisire temperature con decimali\n",
    "- Ricordati di controllare se la lista delle temperature è vuota prima di calcolare la media\n",
    "- Per calcolare la media puoi utilizzare la funzione `sum()` diviso per il numero di elementi\n",
    "\n",
    "Questo esercizio modella in modo semplicistico un termometro elettronico che smette di misurare quando si preme un bottone, simulato nel nostro programma dall'invio di un segnale negativo."
   ]
  },
  {
   "cell_type": "markdown",
   "metadata": {},
   "source": [
    "# Funzioni"
   ]
  },
  {
   "cell_type": "code",
   "execution_count": 13,
   "metadata": {},
   "outputs": [],
   "source": [
    "def print_string_ciao(input_str):\n",
    "    \"\"\"stampa la stringa + ciao\"\"\"\n",
    "    output = input_str + \" ciao\"\n",
    "    return output"
   ]
  },
  {
   "cell_type": "code",
   "execution_count": 12,
   "metadata": {},
   "outputs": [
    {
     "data": {
      "text/plain": [
       "'banana ciao'"
      ]
     },
     "execution_count": 12,
     "metadata": {},
     "output_type": "execute_result"
    }
   ],
   "source": [
    "print_string_ciao(\"banana\")\n"
   ]
  },
  {
   "cell_type": "code",
   "execution_count": 14,
   "metadata": {},
   "outputs": [],
   "source": [
    "def fib(n):    # write Fibonacci series less than n\n",
    "    \"\"\"Print a Fibonacci series less than n.\"\"\"\n",
    "    a, b = 0, 1\n",
    "    while a < n:\n",
    "        print(a, end=' ')\n",
    "        a, b = b, a+b\n",
    "    print()"
   ]
  },
  {
   "cell_type": "code",
   "execution_count": 15,
   "metadata": {},
   "outputs": [
    {
     "name": "stdout",
     "output_type": "stream",
     "text": [
      "0 1 1 2 3 5 8 13 21 34 55 89 144 233 377 610 987 1597 \n"
     ]
    }
   ],
   "source": [
    "# Now call the function we just defined:\n",
    "fib(2000)"
   ]
  },
  {
   "cell_type": "code",
   "execution_count": 16,
   "metadata": {},
   "outputs": [
    {
     "data": {
      "text/plain": [
       "<function __main__.fib(n)>"
      ]
     },
     "execution_count": 16,
     "metadata": {},
     "output_type": "execute_result"
    }
   ],
   "source": [
    "fib"
   ]
  },
  {
   "cell_type": "code",
   "execution_count": null,
   "metadata": {},
   "outputs": [],
   "source": [
    "f = fib\n",
    "f(100)"
   ]
  },
  {
   "cell_type": "code",
   "execution_count": 17,
   "metadata": {},
   "outputs": [
    {
     "name": "stdout",
     "output_type": "stream",
     "text": [
      "\n",
      "\n",
      "None\n"
     ]
    }
   ],
   "source": [
    "# Le funzioni possono non restituire nulla:\n",
    "fib(0)\n",
    "print(fib(0))"
   ]
  },
  {
   "cell_type": "code",
   "execution_count": null,
   "metadata": {},
   "outputs": [],
   "source": [
    "def fib2(n):  # return Fibonacci series up to n\n",
    "    \"\"\"Return a list containing the Fibonacci series up to n.\"\"\"\n",
    "    result = []\n",
    "    a, b = 0, 1\n",
    "    while a < n:\n",
    "        result.append(a)    # see below\n",
    "        a, b = b, a+b\n",
    "    return result\n",
    "\n",
    "f100 = fib2(100)    # call it\n",
    "f100                # write the result"
   ]
  },
  {
   "cell_type": "code",
   "execution_count": null,
   "metadata": {},
   "outputs": [],
   "source": [
    "def ask_ok(prompt, error_message, retries=4, reminder='Please try again!'):\n",
    "    while True:\n",
    "        reply = input(prompt)\n",
    "        if reply in {'y', 'ye', 'yes'}: \n",
    "            # The \"in\" keyword tests whether or not a sequence contains a certain value.\n",
    "            return True\n",
    "        if reply in {'n', 'no', 'nop', 'nope'}:\n",
    "            return False\n",
    "        retries = retries - 1\n",
    "        if retries < 0:\n",
    "            raise ValueError('invalid user response')\n",
    "        print(reminder)\n",
    "\n",
    "ask_ok(\"prompt\", reminder=\"Attento oh!\")"
   ]
  },
  {
   "cell_type": "code",
   "execution_count": null,
   "metadata": {},
   "outputs": [],
   "source": [
    "def f(a, L=[]):\n",
    "    L.append(a)\n",
    "    return L"
   ]
  },
  {
   "cell_type": "code",
   "execution_count": null,
   "metadata": {},
   "outputs": [],
   "source": [
    "print(f(1))"
   ]
  },
  {
   "cell_type": "code",
   "execution_count": null,
   "metadata": {},
   "outputs": [],
   "source": [
    "print(f(2))"
   ]
  },
  {
   "cell_type": "code",
   "execution_count": null,
   "metadata": {},
   "outputs": [],
   "source": [
    "print(f(3))"
   ]
  },
  {
   "cell_type": "code",
   "execution_count": null,
   "metadata": {},
   "outputs": [],
   "source": [
    "# If you don’t want the default to be shared between subsequent calls, you can write the function like this instead:\n",
    "def f(a, L=None):\n",
    "    if L is None:\n",
    "        L = []\n",
    "    L.append(a)\n",
    "    return L"
   ]
  },
  {
   "cell_type": "code",
   "execution_count": null,
   "metadata": {},
   "outputs": [],
   "source": [
    "print(f(1))\n",
    "print(f(2))\n",
    "print(f(3))"
   ]
  },
  {
   "cell_type": "code",
   "execution_count": null,
   "metadata": {},
   "outputs": [],
   "source": [
    "def parrot(voltage, state='a stiff', action='survive', type='Norwegian Blue'):\n",
    "    print(\"-- This parrot wouldn't\", action, end=' ')\n",
    "    print(\"if you put\", voltage, \"volts through it.\")\n",
    "    print(\"-- Lovely plumage, the\", type)\n",
    "    print(\"-- It's\", state, \"!\")\n",
    "\n",
    "parrot(1000)                                          # 1 positional argument\n",
    "parrot(voltage=1000)                                  # 1 keyword argument\n",
    "parrot(voltage=1000000, action='SURVIVE')             # 2 keyword arguments\n",
    "parrot(action='SURVIVE', voltage=1000000)             # 2 keyword arguments\n",
    "parrot('a million', 'bereft of life', 'jump')         # 3 positional arguments\n",
    "parrot('a thousand', state='pushing up the daisies')  # 1 positional, 1 keyword"
   ]
  },
  {
   "cell_type": "markdown",
   "metadata": {},
   "source": [
    "## Problema: Matrici e Funzioni\n",
    "\n",
    "**Obiettivo**\n",
    "Creare un programma che permetta di visualizzare in modo ordinato e leggibile matrici bidimensionali con valori di lunghezze diverse.\n",
    "\n",
    "**Descrizione**\n",
    "Quando si stampano matrici contenenti numeri di lunghezze diverse, l'output risulta disallineato e difficile da leggere. Il tuo compito è implementare un sistema che visualizzi matrici con elementi perfettamente allineati in colonne.\n",
    "\n",
    "**Requisiti:**\n",
    "1. Implementare una funzione `r_just(element, max_len)` che allinei a destra un elemento all'interno di uno spazio di lunghezza specificata\n",
    "2. Implementare una funzione `print_matrix_2D(matrix)` che:\n",
    "   - Calcoli la larghezza massima necessaria per qualsiasi elemento nella matrice\n",
    "   - Utilizzi la funzione `r_just` per allineare ogni elemento\n",
    "   - Formatti l'output con barre verticali all'inizio e alla fine di ogni riga e virgole tra gli elementi\n",
    "\n",
    "**Esempio di Input:**\n",
    "```python\n",
    "matrix = [[1, 222, 33333],\n",
    "          [4, 5, 6]]\n",
    "```\n",
    "\n",
    "**Output Atteso:**\n",
    "```\n",
    "|    1,   222, 33333 |\n",
    "|    4,     5,     6 |\n",
    "```\n",
    "\n",
    "**Suggerimenti:**\n",
    "- Utilizza la funzione `len(str(element))` per calcolare la lunghezza di un elemento convertito in stringa\n",
    "- Ricorda che l'allineamento a destra si ottiene aggiungendo spazi all'inizio della stringa"
   ]
  },
  {
   "cell_type": "markdown",
   "metadata": {},
   "source": [
    "# Più tipi di dati dati!"
   ]
  },
  {
   "cell_type": "markdown",
   "metadata": {},
   "source": [
    "## Dizionari"
   ]
  },
  {
   "cell_type": "code",
   "execution_count": null,
   "metadata": {},
   "outputs": [],
   "source": [
    "tel = {'jack': 4098, 'sape': 4139}\n",
    "tel['guido'] = 4127\n",
    "print (tel)\n",
    "\n",
    "print (tel['jack'])\n",
    "\n",
    "del tel['sape'] # \"del\" is used to REMOVE elements \n",
    "tel['irv'] = 4127\n",
    "print (tel)\n",
    "print()\n",
    "\n",
    "a=list(tel)\n",
    "print(a)\n",
    "\n",
    "b=sorted(tel)\n",
    "print(b)\n",
    "print()\n",
    "\n",
    "print(tel.keys())\n",
    "print(tel.values())\n",
    "print(tel.items())\n",
    "print()\n",
    "\n",
    "p='guido' in tel\n",
    "print(p)\n",
    "l='jack' not in tel\n",
    "print(l)"
   ]
  },
  {
   "cell_type": "code",
   "execution_count": null,
   "metadata": {},
   "outputs": [],
   "source": [
    "dict([('sape', 4139), ('guido', 4127), ('jack', 4098)])\n",
    "dict(sape=655, guido=767, jack=433) # only if the keys are simple strings"
   ]
  },
  {
   "cell_type": "code",
   "execution_count": null,
   "metadata": {},
   "outputs": [],
   "source": [
    "{x: x**2 for x in (2, 4, 6)}"
   ]
  },
  {
   "cell_type": "code",
   "execution_count": null,
   "metadata": {},
   "outputs": [],
   "source": [
    "knights = {'gallahad': 'the pure', 'robin': 'the brave'}\n",
    "for k, v in knights.items():\n",
    "    print(k, v)\n",
    "\n",
    "for i, v in enumerate(['tic', 'tac', 'toe']):\n",
    "    print(i, v)\n"
   ]
  },
  {
   "cell_type": "code",
   "execution_count": 53,
   "metadata": {},
   "outputs": [
    {
     "name": "stdout",
     "output_type": "stream",
     "text": [
      "What is your name?  It is lancelot.\n",
      "What is your quest?  It is the holy grail.\n",
      "What is your favorite color?  It is blue.\n"
     ]
    }
   ],
   "source": [
    "questions = ['name', 'quest', 'favorite color']\n",
    "answers = ['lancelot', 'the holy grail', 'blue']\n",
    "for q, a in zip(questions, answers):\n",
    "    print('What is your {0}?  It is {1}.'.format(q, a))"
   ]
  },
  {
   "cell_type": "markdown",
   "metadata": {},
   "source": [
    "## Tuple"
   ]
  },
  {
   "cell_type": "code",
   "execution_count": null,
   "metadata": {},
   "outputs": [],
   "source": [
    "t = 12345, 54321, 'hello!'\n",
    "t[0]\n",
    "\n",
    "print(t)\n",
    "\n",
    "# Tuples may be nested:\n",
    "u = t, (1, 2, 3, 4, 5)\n",
    "print(u)\n",
    "\n",
    "\n",
    "\n",
    "# they can contain mutable objects:\n",
    "v = ([1, 2, 3], [3, 2, 1])\n",
    "print(v)\n",
    "\n",
    "\n",
    "# Tuples are immutable:\n",
    "# t[0] = 88888 is not allowed!"
   ]
  },
  {
   "cell_type": "code",
   "execution_count": 60,
   "metadata": {},
   "outputs": [
    {
     "name": "stdout",
     "output_type": "stream",
     "text": [
      "0\n",
      "1\n"
     ]
    },
    {
     "data": {
      "text/plain": [
       "('hello',)"
      ]
     },
     "execution_count": 60,
     "metadata": {},
     "output_type": "execute_result"
    }
   ],
   "source": [
    "empty = ()\n",
    "singleton = 'hello',    # <-- note trailing comma\n",
    "print(len(empty))\n",
    "\n",
    "print(len(singleton))\n",
    "\n",
    "singleton"
   ]
  },
  {
   "cell_type": "markdown",
   "metadata": {},
   "source": [
    "## Set"
   ]
  },
  {
   "cell_type": "code",
   "execution_count": 61,
   "metadata": {},
   "outputs": [
    {
     "data": {
      "text/plain": [
       "{'a', 'b', 'c', 'd', 'r'}"
      ]
     },
     "execution_count": 61,
     "metadata": {},
     "output_type": "execute_result"
    }
   ],
   "source": [
    "# Demonstrate set operations on unique letters from two words\n",
    "\n",
    "a = set('abracadabra')\n",
    "b = set('alacazam')\n",
    "a                                  # unique letters in a\n",
    "\n",
    "# a - b                              # letters in a but not in b\n",
    "\n",
    "# a | b                              # letters in a or b or both\n",
    "\n",
    "# a & b                              # letters in both a and b\n",
    "\n",
    "# a ^ b                              # letters in a or b but not both"
   ]
  },
  {
   "cell_type": "markdown",
   "metadata": {},
   "source": [
    "## Altri"
   ]
  },
  {
   "cell_type": "code",
   "execution_count": null,
   "metadata": {},
   "outputs": [],
   "source": []
  },
  {
   "cell_type": "code",
   "execution_count": null,
   "metadata": {},
   "outputs": [],
   "source": []
  },
  {
   "cell_type": "markdown",
   "metadata": {},
   "source": [
    "## Problema: Dizionari e Tuple"
   ]
  },
  {
   "cell_type": "code",
   "execution_count": null,
   "metadata": {},
   "outputs": [],
   "source": []
  },
  {
   "cell_type": "markdown",
   "metadata": {},
   "source": [
    "# Culture Pills"
   ]
  }
 ],
 "metadata": {
  "kernelspec": {
   "display_name": ".venv",
   "language": "python",
   "name": "python3"
  },
  "language_info": {
   "codemirror_mode": {
    "name": "ipython",
    "version": 3
   },
   "file_extension": ".py",
   "mimetype": "text/x-python",
   "name": "python",
   "nbconvert_exporter": "python",
   "pygments_lexer": "ipython3",
   "version": "3.12.3"
  }
 },
 "nbformat": 4,
 "nbformat_minor": 2
}
