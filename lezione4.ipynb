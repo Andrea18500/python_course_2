{
 "cells": [
  {
   "cell_type": "markdown",
   "id": "a493554e",
   "metadata": {},
   "source": [
    "# Lezione 4"
   ]
  },
  {
   "cell_type": "markdown",
   "id": "e38b874f",
   "metadata": {},
   "source": [
    "## Ambienti Virtuali\n",
    "\n",
    "Gli ambienti virtuali Python sono spazi isolati dove è possibile installare pacchetti e dipendenze specifiche per un determinato progetto senza interferire con altri progetti o con l'installazione di sistema.\n",
    "\n",
    "### Perché usare gli ambienti virtuali?\n",
    "\n",
    "Spesso si lavora con librerie specializzate (nel vostro caso scikit-learn, biopython, pydicom o altre robe che io non ho mai sentito ma che i python guru di biomedica usano spesso) che potrebbero richiedere versioni specifiche o avere dipendenze in conflitto tra progetti diversi.\n",
    "\n",
    "### Ma come si creano sti ambienti virtuali?\n",
    "\n",
    "Servono dei progrmmini specifici, sotto una lista noiosa dei principali:\n",
    "\n",
    "1. **venv** - è il modulo nativo integrato nella libreria standard Python a partire dalla versione 3.3. È un'opzione semplice e leggera che non richiede installazioni aggiuntive. Le sue funzionalità sono basilari ma sufficienti per la maggior parte degli scenari. È ideale per progetti Python standard e casi d'uso semplici dove non sono necessarie configurazioni complesse.\n",
    "2. **conda** - rappresenta un sistema completo di gestione pacchetti e ambienti che va oltre le capacità degli altri strumenti. La sua forza principale è la capacità di gestire dipendenze binarie complesse e il supporto multi-linguaggio, non limitandosi solo a Python. È particolarmente adatto per progetti di data science, machine learning e applicazioni scientifiche che utilizzano librerie con componenti C/C++/Fortran. In ambito biomedico, conda eccelle quando si lavora con stack tecnologici complessi come numpy, scipy o tensorflow.\n",
    "3. **virtualenv** - è il precursore di venv e offre supporto anche per Python 2.x. È più flessibile di venv e dispone di funzionalità avanzate, ma richiede un'installazione separata. Questo strumento è particolarmente indicato per progetti che necessitano di compatibilità con versioni Python più datate o quando servono opzioni di configurazione più granulari non disponibili in venv.\n",
    "4. **pipenv** - unifica pip e virtualenv in un workflow semplificato, offrendo un'esperienza più moderna per la gestione degli ambienti virtuali. Include una gestione dipendenze avanzata con Pipfile/Pipfile.lock e risoluzione automatica dei conflitti. Una caratteristica distintiva è la separazione tra dipendenze di sviluppo e produzione, oltre all'attivazione semplificata dell'ambiente. È particolarmente adatto per lo sviluppo applicativo dove la riproducibilità degli ambienti è una priorità.\n",
    "\n",
    "### venv (già pronto)\n",
    "\n",
    "`venv` è il modulo standard Python per creare ambienti virtuali ed è disponibile a partire da Python 3.3.\n",
    "\n",
    "#### Creazione di un ambiente virtuale\n",
    "\n",
    "```bash\n",
    "# Creare un ambiente virtuale chiamato 'myenv'\n",
    "python -m venv myenv\n",
    "```"
   ]
  },
  {
   "cell_type": "markdown",
   "id": "afddd7ba",
   "metadata": {},
   "source": [
    "\n",
    "\n",
    "#### Attivazione dell'ambiente\n",
    "\n",
    "**Su Windows:**\n"
   ]
  },
  {
   "cell_type": "code",
   "execution_count": null,
   "id": "e1366099",
   "metadata": {},
   "outputs": [],
   "source": [
    "myenv\\Scripts\\activate"
   ]
  },
  {
   "cell_type": "markdown",
   "id": "81ee605d",
   "metadata": {},
   "source": [
    "\n",
    "\n",
    "**Su macOS/Linux:**\n"
   ]
  },
  {
   "cell_type": "code",
   "execution_count": null,
   "id": "2e9d16bd",
   "metadata": {},
   "outputs": [],
   "source": [
    "source myenv/bin/activate"
   ]
  },
  {
   "cell_type": "markdown",
   "id": "24013564",
   "metadata": {},
   "source": [
    "#### Come si usa?\n",
    "\n",
    "Una volta attivato, vedrete il nome dell'ambiente a sinistra nel prompt dei comandi. Ora potete installare pacchetti specifici:"
   ]
  },
  {
   "cell_type": "code",
   "execution_count": null,
   "id": "bbd48903",
   "metadata": {},
   "outputs": [],
   "source": [
    "pip install nome-pacchetto"
   ]
  },
  {
   "cell_type": "markdown",
   "id": "12ddc735",
   "metadata": {},
   "source": [
    "\n",
    "\n",
    "#### Salvare e riprodurre l'ambiente\n",
    "\n"
   ]
  },
  {
   "cell_type": "code",
   "execution_count": null,
   "id": "16c3567e",
   "metadata": {},
   "outputs": [],
   "source": [
    "# Salvare i pacchetti installati in requirements.txt\n",
    "pip freeze > requirements.txt\n",
    "\n",
    "# Reinstallare gli stessi pacchetti in un altro ambiente\n",
    "pip install -r requirements.txt"
   ]
  },
  {
   "cell_type": "markdown",
   "id": "cbe60abb",
   "metadata": {},
   "source": [
    "\n",
    "\n",
    "#### Disattivazione dell'ambiente\n",
    "\n"
   ]
  },
  {
   "cell_type": "code",
   "execution_count": null,
   "id": "52a446b1",
   "metadata": {},
   "outputs": [],
   "source": [
    "deactivate"
   ]
  },
  {
   "cell_type": "markdown",
   "id": "bcc85cfb",
   "metadata": {},
   "source": [
    "\n",
    "(NON LA VEDIAMO MA LA METTO CHE MAGARI DOVRETE USARLA) \n",
    "### conda: soluzione per data science\n",
    "\n",
    "Particolarmente utile per applicazioni biomediche con dipendenze complesse:\n",
    "\n"
   ]
  },
  {
   "cell_type": "code",
   "execution_count": null,
   "id": "a0383536",
   "metadata": {},
   "outputs": [],
   "source": [
    "# Creare ambiente conda\n",
    "conda create --name biomed_env python=3.9\n",
    "\n",
    "# Attivare\n",
    "conda activate biomed_env\n",
    "\n",
    "# Installare pacchetti scientifici\n",
    "conda install nome-pacchetto\n",
    "conda install -c conda-forge biopython pydicom\n",
    "\n",
    "# Disattivare\n",
    "conda deactivate"
   ]
  },
  {
   "cell_type": "markdown",
   "id": "0826ed82",
   "metadata": {},
   "source": [
    "### Use case\n",
    "\n",
    "Marco ti ha scritto di nascosto il codice della tesi, tu lo scarichi sul tuo pc ma rovini tutti i file quando lo esegui. La consegna è domani. Sei fregato. Questo non sarebbe successo se avessi usato gli ambienti virtuali e Marco ti avesse passato il file `requrements.txt`"
   ]
  },
  {
   "cell_type": "markdown",
   "id": "39012c01",
   "metadata": {},
   "source": [
    "- - -"
   ]
  },
  {
   "cell_type": "markdown",
   "id": "5f5f0ada",
   "metadata": {},
   "source": [
    "## Quick Guide: Installing Jupyter Notebook\n",
    "\n",
    "Jupyter Notebook è una applicazione open source che ti permette di creare e condividere documenti che contengono codice eseguibile direttamente nell'editor di testo! Assurdo vero? Puoi aggiungere pure equazioni, grafici, testo markdown ecc!\n",
    "\n",
    "Questo documento è letteralmente un jupyter notebook! (magari stai guardando la versione esportata in pdf)\n",
    "\n",
    "\n",
    "### Ubuntu Installation\n",
    "\n",
    "#### Using pip\n",
    "```bash\n",
    "# Installa pip se non è ancora installato\n",
    "sudo apt update\n",
    "sudo apt install python3-pip\n",
    "\n",
    "# Installa Jupyter Notebook\n",
    "pip3 install jupyterlab\n",
    "\n",
    "# Proviamo a lanciare un notebook!!\n",
    "jupyter notebook"
   ]
  },
  {
   "cell_type": "markdown",
   "id": "072fdad1",
   "metadata": {},
   "source": [
    "\n",
    "\n",
    "### macOS Installation\n",
    "\n",
    "#### Using pip\n"
   ]
  },
  {
   "cell_type": "code",
   "execution_count": null,
   "id": "e3cc9ab3",
   "metadata": {},
   "outputs": [],
   "source": [
    "# Install pip if not already installed (most macOS comes with pip)\n",
    "python3 -m ensurepip --upgrade\n",
    "\n",
    "# Install Jupyter Notebook\n",
    "pip3 install notebook\n",
    "\n",
    "# Launch Jupyter Notebook\n",
    "jupyter notebook"
   ]
  },
  {
   "cell_type": "markdown",
   "id": "29faa9c7",
   "metadata": {},
   "source": [
    "\n",
    "\n",
    "#### Using conda\n"
   ]
  },
  {
   "cell_type": "code",
   "execution_count": null,
   "id": "981da3c7",
   "metadata": {},
   "outputs": [],
   "source": [
    "# Install Miniconda (if not already installed)\n",
    "# Download from https://docs.conda.io/en/latest/miniconda.html\n",
    "# Or use Homebrew:\n",
    "brew install --cask miniconda\n",
    "\n",
    "# Install Jupyter Notebook\n",
    "conda install -c conda-forge notebook\n",
    "\n",
    "# Launch Jupyter Notebook\n",
    "jupyter notebook"
   ]
  },
  {
   "cell_type": "markdown",
   "id": "1ade9e86",
   "metadata": {},
   "source": [
    "### Utilizzare Jupyter in VS Code\n",
    "\n",
    "1. **Installare l'estensione Jupyter**:\n",
    "   - Cerca \"Jupyter\" nel marketplace delle estensioni\n",
    "   - Installa l'estensione Jupyter\n",
    "\n",
    "2. **Creare/Aprire Notebook**:\n",
    "   - Crea un nuovo file con estensione `.ipynb`\n",
    "   - Oppure apri un notebook esistente\n",
    "   - VS Code utilizzerà automaticamente l'ambiente Jupyter\n",
    "\n",
    "3. **Selezionare l'interprete Python**:\n",
    "   - Clicca su \"Select Kernel\" in alto a destra nel notebook\n",
    "   - Scegli il tuo ambiente Python\n",
    "\n",
    "### Utilizzo Base\n",
    "\n",
    "Dopo l'installazione su qualsiasi piattaforma:\n",
    "- Jupyter Notebook si aprirà nel tuo browser web predefinito\n",
    "- Naviga fino alla cartella del tuo progetto\n",
    "- Clicca su \"New\" → \"Python 3\" per creare un nuovo notebook\n",
    "- Scrivi codice nelle celle ed eseguilo con Shift+Enter\n",
    "\n",
    "In VS Code:\n",
    "- Esegui le celle con il pulsante \"Run Cell\" o con Shift+Enter\n",
    "- Gestisci kernel e variabili attraverso l'interfaccia di VS Code"
   ]
  },
  {
   "cell_type": "markdown",
   "id": "ab1b6280",
   "metadata": {},
   "source": [
    "- - -"
   ]
  },
  {
   "cell_type": "markdown",
   "id": "4001c0c7",
   "metadata": {},
   "source": [
    "## Funzioni"
   ]
  },
  {
   "cell_type": "markdown",
   "id": "0bc67fa1",
   "metadata": {},
   "source": [
    "### Definizione di Base delle Funzioni\n",
    "\n",
    "Le funzioni permettono di organizzare il codice in blocchi riutilizzabili. In Python, le funzioni sono definite usando la parola chiave `def`.\n",
    "\n"
   ]
  },
  {
   "cell_type": "code",
   "execution_count": 23,
   "id": "23f93c7c",
   "metadata": {},
   "outputs": [
    {
     "name": "stdout",
     "output_type": "stream",
     "text": [
      "Welcome to the cardiology department!\n"
     ]
    }
   ],
   "source": [
    "def greet_patient():\n",
    "    \"\"\"Una semplice funzione che saluta un paziente\"\"\"\n",
    "    print(\"Welcome to the cardiology department!\")\n",
    "    \n",
    "# Chiamata della funzione\n",
    "greet_patient()"
   ]
  },
  {
   "cell_type": "markdown",
   "id": "57d91aa8",
   "metadata": {},
   "source": [
    "\n",
    "\n",
    "### Funzioni con Parametri\n",
    "\n",
    "Le funzioni diventano più utili quando possono accettare dati in input.\n",
    "\n"
   ]
  },
  {
   "cell_type": "code",
   "execution_count": 26,
   "id": "6427ff03",
   "metadata": {},
   "outputs": [
    {
     "name": "stdout",
     "output_type": "stream",
     "text": [
      "BMI: 22.9\n"
     ]
    }
   ],
   "source": [
    "def calculate_bmi(weight_kg, height_m):\n",
    "    \"\"\"Calcola l'Indice di Massa Corporea\"\"\"\n",
    "    bmi = weight_kg / (height_m ** 2)\n",
    "    print(f\"BMI: {bmi:.1f}\")\n",
    "\n",
    "# Calcola BMI per un paziente\n",
    "calculate_bmi(70, 1.75)  # Circa 22.9"
   ]
  },
  {
   "cell_type": "markdown",
   "id": "42dfcc15",
   "metadata": {},
   "source": [
    "\n",
    "\n",
    "### Valori di Ritorno\n",
    "\n",
    "Le funzioni possono elaborare dati e restituire risultati.\n",
    "\n"
   ]
  },
  {
   "cell_type": "code",
   "execution_count": 27,
   "id": "5efc6117",
   "metadata": {},
   "outputs": [
    {
     "name": "stdout",
     "output_type": "stream",
     "text": [
      "BMI: 22.9\n"
     ]
    }
   ],
   "source": [
    "# Stessa funzione di prima solo che ora restitusice un valore\n",
    "# che può essere salvato\n",
    "def calculate_bmi(weight_kg, height_m):\n",
    "    \"\"\"Calcola l'Indice di Massa Corporea\"\"\"\n",
    "    bmi = weight_kg / (height_m ** 2)\n",
    "    print(f\"BMI: {bmi:.1f}\")\n",
    "    return bmi\n",
    "\n",
    "# Calcola BMI per un paziente\n",
    "patient_bmi = calculate_bmi(70, 1.75)  # Circa 22.9"
   ]
  },
  {
   "cell_type": "code",
   "execution_count": 28,
   "id": "07a160c2",
   "metadata": {},
   "outputs": [
    {
     "name": "stdout",
     "output_type": "stream",
     "text": [
      "Patient has fever: True\n"
     ]
    }
   ],
   "source": [
    "def is_fever(temperature):\n",
    "    \"\"\"Determina se il paziente ha febbre in base alla temperatura\"\"\"\n",
    "    return temperature > 37.5\n",
    "\n",
    "\n",
    "# Controlla se i pazienti hanno febbre\n",
    "has_fever = is_fever(38.2)\n",
    "print(f\"Patient has fever: {has_fever}\")  # True\n"
   ]
  },
  {
   "cell_type": "markdown",
   "id": "d72755db",
   "metadata": {},
   "source": [
    "\n",
    "\n",
    "### Parametri con Valori Predefiniti\n",
    "\n",
    "Le funzioni possono avere parametri con valori predefiniti.\n",
    "\n"
   ]
  },
  {
   "cell_type": "code",
   "execution_count": null,
   "id": "a21ac3a3",
   "metadata": {},
   "outputs": [
    {
     "name": "stdout",
     "output_type": "stream",
     "text": [
      "Patient has fever: True\n",
      "Patient has fever: False\n"
     ]
    }
   ],
   "source": [
    "# stessa funzione di prima solo che ora permette di controllare\n",
    "# anche in Fahrenheit\n",
    "def is_fever(temperature, celsius=True):\n",
    "    \"\"\"Determina se il paziente ha febbre in base alla temperatura\"\"\"\n",
    "    if celsius:\n",
    "        return temperature > 37.5\n",
    "    else:\n",
    "        return temperature > 99.5  # Fahrenheit\n",
    "\n",
    "# Controlla se i pazienti hanno febbre\n",
    "has_fever = is_fever(38.2)\n",
    "print(f\"Patient has fever: {has_fever}\")  # True\n",
    "\n",
    "# Usando Fahrenheit\n",
    "has_fever = is_fever(98.6, celsius=False)\n",
    "print(f\"Patient has fever: {has_fever}\")  # False"
   ]
  },
  {
   "cell_type": "code",
   "execution_count": null,
   "id": "37999226",
   "metadata": {},
   "outputs": [
    {
     "name": "stdout",
     "output_type": "stream",
     "text": [
      "For strep throat, take 500mg of antibiotics twice daily.\n",
      "For ('severe pneumonia', 750), take 500mg of antibiotics twice daily.\n"
     ]
    }
   ],
   "source": [
    "def prescribe_antibiotic(infection, dosage_mg=500):\n",
    "    \"\"\"Prescrive un antibiotico con un dosaggio predefinito\"\"\"\n",
    "    return f\"For {infection}, take {dosage_mg}mg of antibiotics twice daily.\"\n",
    "\n",
    "# Usando il dosaggio predefinito\n",
    "print(prescribe_antibiotic(\"strep throat\"))\n",
    "# Controllare\n",
    "input_to_func = (\"severe pneumonia\", 750)\n",
    "\n",
    "# Specificando un dosaggio diverso\n",
    "print(prescribe_antibiotic(input_to_func))"
   ]
  },
  {
   "cell_type": "markdown",
   "id": "a084c1ba",
   "metadata": {},
   "source": [
    "\n",
    "\n",
    "### *Scope* (ambito) delle Variabili\n",
    "\n",
    "Le variabili definite all'interno delle funzioni sono locali a quelle funzioni."
   ]
  },
  {
   "cell_type": "code",
   "execution_count": 29,
   "id": "f94f2573",
   "metadata": {},
   "outputs": [],
   "source": [
    "def analyze_blood_sample():\n",
    "    wbc_count = 7500  # Conta dei globuli bianchi (variabile locale)\n",
    "    print(f\"WBC count: {wbc_count} cells/μL\")\n",
    "    return wbc_count > 10000  # Restituisce True se elevata"
   ]
  },
  {
   "cell_type": "code",
   "execution_count": 30,
   "id": "73abd169",
   "metadata": {},
   "outputs": [
    {
     "name": "stdout",
     "output_type": "stream",
     "text": [
      "WBC count: 7500 cells/μL\n",
      "WBC elevated: False\n"
     ]
    }
   ],
   "source": [
    "\n",
    "result = analyze_blood_sample()\n",
    "print(f\"WBC elevated: {result}\")"
   ]
  },
  {
   "cell_type": "code",
   "execution_count": 31,
   "id": "ce0ce9ff",
   "metadata": {},
   "outputs": [
    {
     "ename": "NameError",
     "evalue": "name 'wbc_count' is not defined",
     "output_type": "error",
     "traceback": [
      "\u001b[31m---------------------------------------------------------------------------\u001b[39m",
      "\u001b[31mNameError\u001b[39m                                 Traceback (most recent call last)",
      "\u001b[36mCell\u001b[39m\u001b[36m \u001b[39m\u001b[32mIn[31]\u001b[39m\u001b[32m, line 3\u001b[39m\n\u001b[32m      1\u001b[39m \u001b[38;5;66;03m# Questo causerebbe un errore perché wbc_count non è definita al\u001b[39;00m\n\u001b[32m      2\u001b[39m \u001b[38;5;66;03m# di fuori della funzione\u001b[39;00m\n\u001b[32m----> \u001b[39m\u001b[32m3\u001b[39m \u001b[38;5;28mprint\u001b[39m(\u001b[43mwbc_count\u001b[49m)  \u001b[38;5;66;03m# NameError: name 'wbc_count' is not defined\u001b[39;00m\n",
      "\u001b[31mNameError\u001b[39m: name 'wbc_count' is not defined"
     ]
    }
   ],
   "source": [
    "# Questo causerebbe un errore perché wbc_count non è definita al\n",
    "# di fuori della funzione\n",
    "print(wbc_count)  # NameError: name 'wbc_count' is not defined"
   ]
  },
  {
   "cell_type": "markdown",
   "id": "33be3e0e",
   "metadata": {},
   "source": [
    "\n",
    "\n",
    "### Valori di Ritorno Multipli\n",
    "\n",
    "Le funzioni possono restituire più valori sottoforma di tupla."
   ]
  },
  {
   "cell_type": "code",
   "execution_count": null,
   "id": "eeee9538",
   "metadata": {},
   "outputs": [
    {
     "name": "stdout",
     "output_type": "stream",
     "text": [
      "Patient has Stage 1 Hypertension with BP 142/88\n"
     ]
    }
   ],
   "source": [
    "def blood_pressure_status(systolic, diastolic):\n",
    "    \"\"\"Categorizza la pressione sanguigna e restituisce la categoria con i valori\"\"\"\n",
    "    if systolic < 120 and diastolic < 80:\n",
    "        category = \"Normal\"\n",
    "    elif systolic < 130 and diastolic < 80:\n",
    "        category = \"Elevated\"\n",
    "    elif 130 <= systolic < 140 or 80 <= diastolic < 90:\n",
    "        category = \"Stage 1 Hypertension\"\n",
    "    else:\n",
    "        category = \"Stage 2 Hypertension\"\n",
    "    \n",
    "    return category, systolic, diastolic\n",
    "\n",
    "# Ottieni lo stato della pressione sanguigna co  la sintassi vista la volta scorsa!\n",
    "status, sys_bp, dia_bp = blood_pressure_status(142, 88)\n",
    "print(f\"Patient has {status} with BP {sys_bp}/{dia_bp}\")"
   ]
  },
  {
   "cell_type": "markdown",
   "id": "8139e32c",
   "metadata": {},
   "source": [
    "\n",
    "\n",
    "### *args e **kwargs\n",
    "\n",
    "Questi permettono alle funzioni di accettare un numero variabile di argomenti.\n",
    "\n"
   ]
  },
  {
   "cell_type": "code",
   "execution_count": null,
   "id": "ae2d4605",
   "metadata": {},
   "outputs": [
    {
     "name": "stdout",
     "output_type": "stream",
     "text": [
      "Average glucose: 97.33333333333333 mg/dL\n"
     ]
    }
   ],
   "source": [
    "def calculate_average_glucose(*readings):\n",
    "    \"\"\"Calcola la glicemia media da più misurazioni\"\"\"\n",
    "    return sum(readings) / len(readings)\n",
    "\n",
    "# Media della glicemia da mattina, mezzogiorno, sera\n",
    "avg = calculate_average_glucose(95, 110, 87)\n",
    "print(f\"Average glucose: {avg} mg/dL\")"
   ]
  },
  {
   "cell_type": "code",
   "execution_count": null,
   "id": "1da71fb5",
   "metadata": {},
   "outputs": [
    {
     "name": "stdout",
     "output_type": "stream",
     "text": [
      "Patient: Jane Doe\n",
      "  age: 42\n",
      "  blood_type: O+\n",
      "  allergies: ['penicillin', 'latex']\n",
      "  heart_rate: 72\n"
     ]
    }
   ],
   "source": [
    "def patient_info(name, **data):\n",
    "    \"\"\"Memorizza informazioni del paziente con campi variabili\"\"\"\n",
    "    print(f\"Patient: {name}\")\n",
    "    for key, value in data.items():\n",
    "        print(f\"  {key}: {value}\")\n",
    "\n",
    "# Crea una cartella clinica con dati variabili\n",
    "patient_info(\"Jane Doe\", age=42, blood_type=\"O+\", \n",
    "             allergies=[\"penicillin\", \"latex\"],\n",
    "             heart_rate=72)\n",
    "\n",
    "def foo(postional_arguments, default_argumets=True, *args, **kwargs):\n",
    "    return \"ciao\""
   ]
  },
  {
   "cell_type": "markdown",
   "id": "38e19f49",
   "metadata": {},
   "source": [
    "\n",
    "\n",
    "### Funzioni Lambda\n",
    "\n",
    "Le funzioni Lambda sono piccole funzioni anonime definite con la parola chiave `lambda`.\n",
    "\n"
   ]
  },
  {
   "cell_type": "code",
   "execution_count": null,
   "id": "34bffdce",
   "metadata": {},
   "outputs": [],
   "source": [
    "# Converti Celsius in Fahrenheit usando una funzione lambda\n",
    "c_to_f = lambda celsius: (celsius * 9/5) + 32\n",
    "\n",
    "# Converti la temperatura corporea\n",
    "body_temp_c = 37.0\n",
    "body_temp_f = c_to_f(body_temp_c)\n",
    "print(f\"{body_temp_c}°C = {body_temp_f}°F\")\n",
    "\n",
    "# Utilizzo di lambda in una funzione filter per trovare frequenze cardiache anomale\n",
    "heart_rates = [62, 70, 95, 110, 65, 72]\n",
    "abnormal_rates = list(filter(lambda hr: hr < 60 or hr > 100, heart_rates))\n",
    "print(f\"Abnormal heart rates: {abnormal_rates}\")"
   ]
  },
  {
   "cell_type": "markdown",
   "id": "52b3f5ea",
   "metadata": {},
   "source": [
    "\n",
    "\n",
    "### Documentazione delle Funzioni\n",
    "\n",
    "Documenta le funzioni con docstring per spiegarne lo scopo e i parametri.\n",
    "\n"
   ]
  },
  {
   "cell_type": "code",
   "execution_count": null,
   "id": "2bf9cf66",
   "metadata": {},
   "outputs": [],
   "source": [
    "def estimate_drug_dosage(weight_kg, age, kidney_function=1.0):\n",
    "    \"\"\"\n",
    "    Calcola il dosaggio raccomandato di farmaco in base ai parametri del paziente.\n",
    "    \n",
    "    ### Args:\n",
    "        - `weight_kg`: Peso del paziente in chilogrammi\n",
    "        - `age`: Età del paziente in anni\n",
    "        - kidney_function: Punteggio della funzione renale (0.0-1.0, predefinito=1.0)\n",
    "        \n",
    "    ### Returns:\n",
    "        Dosaggio raccomandato del farmaco in mg\n",
    "    \"\"\"\n",
    "    base_dose = weight_kg * 2\n",
    "    age_factor = 1.0 if age < 65 else 0.85\n",
    "    return base_dose * age_factor * kidney_function\n",
    "\n",
    "# Ottieni il dosaggio per diversi pazienti\n",
    "young_patient_dose = estimate_drug_dosage(70, 30)\n",
    "elderly_patient_dose = estimate_drug_dosage(65, 70, kidney_function=0.7)\n",
    "\n",
    "print(f\"Young patient dosage: {young_patient_dose}mg\")\n",
    "print(f\"Elderly patient dosage: {elderly_patient_dose}mg\")\n",
    "\n",
    "# Accedi alla documentazione della funzione\n",
    "print(estimate_drug_dosage.__doc__)"
   ]
  },
  {
   "cell_type": "markdown",
   "id": "c31af97e",
   "metadata": {},
   "source": [
    "## Classi in Python: Concetti Introduttivi\n",
    "\n",
    "Le classi in Python permettono di implementare la programmazione orientata agli oggetti (OOP), particolarmente utile per modellare concetti del mondo reale ed organizzare codice complesso.\n",
    "\n",
    "### Definizione di Base\n",
    "\n",
    "Una classe è un modello per creare oggetti con attributi (dati) e metodi (funzioni) che operano su quei dati."
   ]
  },
  {
   "cell_type": "code",
   "execution_count": 37,
   "id": "5d694de3",
   "metadata": {},
   "outputs": [],
   "source": [
    "class Patient:\n",
    "    \"\"\"Classe rappresentante un paziente.\"\"\"\n",
    "    \n",
    "    def __init__(self, name, age, patient_id):\n",
    "        \"\"\"Costruttore: inizializza un nuovo paziente.\"\"\"\n",
    "        self.name = name            # Attributo pubblico\n",
    "        self.age = age              # Attributo pubblico\n",
    "        self.patient_id = patient_id # Attributo pubblico\n",
    "        self._medical_history = []  # Attributo \"protetto\" (convenzione)\n",
    "    \n",
    "\n",
    "    def add_diagnosis(self, diagnosis):\n",
    "        \"\"\"Aggiunge una diagnosi alla storia clinica.\"\"\"\n",
    "        self._medical_history.append(diagnosis)\n",
    "    \n",
    "    def get_summary(self):\n",
    "        \"\"\"Restituisce un riepilogo del paziente.\"\"\"\n",
    "        return f\"Patient {self.name} (ID: {self.patient_id}), Age: {self.age}\""
   ]
  },
  {
   "cell_type": "markdown",
   "id": "723ac7bc",
   "metadata": {},
   "source": [
    "### Creazione di Istanze\n",
    "Un'istanza è un oggetto specifico creato da una classe."
   ]
  },
  {
   "cell_type": "code",
   "execution_count": null,
   "id": "b9289d6c",
   "metadata": {},
   "outputs": [
    {
     "name": "stdout",
     "output_type": "stream",
     "text": [
      "Maria Rossi\n",
      "Patient Maria Rossi (ID: P12345), Age: 45\n"
     ]
    }
   ],
   "source": [
    "# Creazione di istanze della classe Patient\n",
    "patient1 = Patient(\"Maria Rossi\", 45, \"P12345\")\n",
    "patient2 = Patient(\"Carlo Bianchi\", 62, \"P67890\")\n",
    "\n",
    "# Accesso agli attributi\n",
    "print(patient1.name)     # Output: \"Maria Rossi\"\n",
    "\n",
    "# Chiamata di metodi\n",
    "patient1.add_diagnosis(\"Hypertension\")\n",
    "print(patient1.get_summary())"
   ]
  },
  {
   "cell_type": "code",
   "execution_count": 41,
   "id": "10e00846",
   "metadata": {},
   "outputs": [
    {
     "name": "stdout",
     "output_type": "stream",
     "text": [
      "[1, 8, 3, 7]\n",
      "[1, 3, 7, 8]\n"
     ]
    }
   ],
   "source": [
    "macedonia =[1, 8, 3, 7]\n",
    "print(macedonia)\n",
    "macedonia.sort()\n",
    "print(macedonia)"
   ]
  },
  {
   "cell_type": "markdown",
   "id": "9f4c86af",
   "metadata": {},
   "source": [
    "### Prossimamente...\n",
    "Ereditarietà... Metodi Speciali... Altro..."
   ]
  },
  {
   "cell_type": "markdown",
   "id": "c0ad2c32",
   "metadata": {},
   "source": [
    "- - -"
   ]
  },
  {
   "cell_type": "markdown",
   "id": "6987a781",
   "metadata": {},
   "source": [
    "## Iteratori in Python\n",
    "\n",
    "Gli iteratori sono oggetti che permettono di attraversare collezioni di dati in modo sequenziale, un elemento alla volta, senza dover caricare l'intera collezione in memoria.\n",
    "\n",
    "### Concetto di base\n",
    "\n",
    "In Python, un iteratore è un oggetto che implementa due metodi speciali:\n",
    "- `__iter__()`: ritorna l'oggetto iteratore stesso\n",
    "- `__next__()`: restituisce il prossimo elemento della collezione e solleva `StopIteration` quando non ci sono più elementi\n",
    "\n",
    "### Perché usare gli iteratori?\n",
    "\n",
    "Gli iteratori sono particolarmente utili quando si lavora con:\n",
    "- Dataset di grandi dimensioni\n",
    "- File contenenti molte immagini (es video o scan)\n",
    "- Flussi continui di dati da dispositivi di monitoraggio\n",
    "\n",
    "### Iteratori integrati\n",
    "\n",
    "Molte strutture dati Python sono già iterabili:"
   ]
  },
  {
   "cell_type": "code",
   "execution_count": null,
   "id": "7ed2f45d",
   "metadata": {},
   "outputs": [],
   "source": [
    "# Liste, tuple, dizionari, set sono tutti iterabili\n",
    "patient_readings = [98.6, 99.1, 97.8, 98.2]\n",
    "\n",
    "for reading in patient_readings:  # Usa implicitamente un iteratore\n",
    "    print(f\"Temperature: {reading}°F\")"
   ]
  },
  {
   "cell_type": "markdown",
   "id": "6e109289",
   "metadata": {},
   "source": [
    "Vedremo nel dettaglio come crearli la volta prossima!!!"
   ]
  },
  {
   "cell_type": "markdown",
   "id": "bd3b0182",
   "metadata": {},
   "source": [
    "- - -"
   ]
  },
  {
   "cell_type": "markdown",
   "id": "4b68c433",
   "metadata": {},
   "source": [
    "## NumPy: Introduzione\n",
    "\n",
    "NumPy è una libreria Python fondamentale per il calcolo scientifico. Fornisce supporto per array multidimensionali, funzioni matematiche avanzate e strumenti per manipolare dati numerici in modo efficiente.\n",
    "\n",
    "### Concetti importanti\n",
    "\n",
    "- **ndarray**: Struttura dati principale di NumPy - array multidimensionale omogeneo\n",
    "- **Vectorization**: Operazioni eseguite su interi array senza cicli espliciti\n",
    "- **Broadcasting**: Meccanismo per operazioni tra array di forme diverse\n",
    "\n",
    "### Creazione di Array\n"
   ]
  },
  {
   "cell_type": "code",
   "execution_count": 8,
   "id": "49d8f84f",
   "metadata": {},
   "outputs": [],
   "source": [
    "import numpy as np"
   ]
  },
  {
   "cell_type": "code",
   "execution_count": 9,
   "id": "9dd1516e",
   "metadata": {},
   "outputs": [],
   "source": [
    "\n",
    "# Array monodimensionale\n",
    "vital_signs = np.array([98.6, 72, 120, 80])  # temp, heart_rate, BP_sys, BP_dia"
   ]
  },
  {
   "cell_type": "code",
   "execution_count": 10,
   "id": "884714aa",
   "metadata": {},
   "outputs": [],
   "source": [
    "\n",
    "# Array bidimensionale (matrice)\n",
    "patient_data = np.array([\n",
    "    [98.6, 72, 120, 80],  # Paziente 1\n",
    "    [97.9, 68, 118, 76],  # Paziente 2\n",
    "    [99.1, 88, 135, 90]   # Paziente 3\n",
    "])"
   ]
  },
  {
   "cell_type": "code",
   "execution_count": 11,
   "id": "99e8dec0",
   "metadata": {},
   "outputs": [],
   "source": [
    "\n",
    "# Array con valori specifici\n",
    "zeros = np.zeros((3, 4))  # Matrice 3x4 di zeri"
   ]
  },
  {
   "cell_type": "code",
   "execution_count": 12,
   "id": "13dbe96f",
   "metadata": {},
   "outputs": [],
   "source": [
    "ones = np.ones((2, 2))    # Matrice 2x2 di uni"
   ]
  },
  {
   "cell_type": "code",
   "execution_count": 13,
   "id": "0d08e2be",
   "metadata": {},
   "outputs": [],
   "source": [
    "identity = np.eye(3)      # Matrice identità 3x3"
   ]
  },
  {
   "cell_type": "code",
   "execution_count": 14,
   "id": "9207867b",
   "metadata": {},
   "outputs": [],
   "source": [
    "\n",
    "# Array con sequenze\n",
    "range_array = np.arange(0, 10, 2)  # [0, 2, 4, 6, 8]"
   ]
  },
  {
   "cell_type": "code",
   "execution_count": 15,
   "id": "5fe9ef96",
   "metadata": {},
   "outputs": [],
   "source": [
    "linear_space = np.linspace(0, 1, 5)  # 5 punti equidistanti tra 0 e 1"
   ]
  },
  {
   "cell_type": "markdown",
   "id": "5dab93d1",
   "metadata": {},
   "source": [
    "Operazioni di Base"
   ]
  },
  {
   "cell_type": "code",
   "execution_count": 16,
   "id": "f3674bfc",
   "metadata": {},
   "outputs": [],
   "source": [
    "# Operazioni elementwise\n",
    "a = np.array([1, 2, 3])\n",
    "b = np.array([4, 5, 6])\n",
    "sum_array = a + b  # [5, 7, 9]\n",
    "product = a * b    # [4, 10, 18]"
   ]
  },
  {
   "cell_type": "code",
   "execution_count": 17,
   "id": "59cb5742",
   "metadata": {},
   "outputs": [],
   "source": [
    "\n",
    "# Statistiche\n",
    "data = np.array([70.5, 68.2, 73.1, 69.8, 72.4])\n",
    "mean = np.mean(data)    # Media\n",
    "std_dev = np.std(data)  # Deviazione standard\n",
    "min_val = np.min(data)  # Valore minimo\n",
    "max_val = np.max(data)  # Valore massimo"
   ]
  },
  {
   "cell_type": "code",
   "execution_count": 18,
   "id": "c6ede92c",
   "metadata": {},
   "outputs": [],
   "source": [
    "# Algebra lineare\n",
    "matrix_A = np.array([[1, 2], [3, 4]])\n",
    "matrix_B = np.array([[5, 6], [7, 8]])\n",
    "matrix_product = np.dot(matrix_A, matrix_B)  # Moltiplicazione matriciale\n",
    "determinant = np.linalg.det(matrix_A)        # Determinante\n",
    "inverse = np.linalg.inv(matrix_A)            # Inversa"
   ]
  },
  {
   "cell_type": "markdown",
   "id": "c013815e",
   "metadata": {},
   "source": [
    "Slicing e Indicizzazione"
   ]
  },
  {
   "cell_type": "code",
   "execution_count": 19,
   "id": "d1663a10",
   "metadata": {},
   "outputs": [],
   "source": [
    "# Dati ECG simulati (una porzione)\n",
    "ecg = np.random.normal(0, 1, 1000)"
   ]
  },
  {
   "cell_type": "code",
   "execution_count": 20,
   "id": "80f702c9",
   "metadata": {},
   "outputs": [],
   "source": [
    "\n",
    "# Ottenere i primi 100 punti\n",
    "first_segment = ecg[:100]"
   ]
  },
  {
   "cell_type": "code",
   "execution_count": 21,
   "id": "4749e7d4",
   "metadata": {},
   "outputs": [],
   "source": [
    "\n",
    "# Matrice di dati paziente (rows=pazienti, cols=misurazioni)\n",
    "patient_matrix = np.random.randint(60, 150, size=(10, 5))\n",
    "first_patient = patient_matrix[0, :]   # Tutte le misurazioni del primo paziente\n",
    "blood_pressure = patient_matrix[:, 2]  # Terza misurazione di tutti i pazienti"
   ]
  },
  {
   "cell_type": "markdown",
   "id": "d2ac8937",
   "metadata": {},
   "source": [
    "Esempietto per biomedici"
   ]
  },
  {
   "cell_type": "code",
   "execution_count": 22,
   "id": "ca5faff4",
   "metadata": {},
   "outputs": [
    {
     "name": "stdout",
     "output_type": "stream",
     "text": [
      "BMI values: [24.48979592 25.66115203 22.03856749]\n"
     ]
    }
   ],
   "source": [
    "# Filtro semplice per segnale biomedico (media mobile)\n",
    "def moving_average(signal, window_size=5):\n",
    "    return np.convolve(signal, np.ones(window_size)/window_size, mode='valid')\n",
    "\n",
    "# Calcolo BMI da matrici di dati\n",
    "heights = np.array([1.75, 1.82, 1.65])  # metri\n",
    "weights = np.array([75, 85, 60])         # kg\n",
    "bmi = weights / (heights ** 2)\n",
    "print(f\"BMI values: {bmi}\")"
   ]
  },
  {
   "cell_type": "markdown",
   "id": "0a95d151",
   "metadata": {},
   "source": [
    "## Esterni: Pietro Pinoli"
   ]
  }
 ],
 "metadata": {
  "kernelspec": {
   "display_name": ".venv",
   "language": "python",
   "name": "python3"
  },
  "language_info": {
   "codemirror_mode": {
    "name": "ipython",
    "version": 3
   },
   "file_extension": ".py",
   "mimetype": "text/x-python",
   "name": "python",
   "nbconvert_exporter": "python",
   "pygments_lexer": "ipython3",
   "version": "3.12.3"
  }
 },
 "nbformat": 4,
 "nbformat_minor": 5
}
