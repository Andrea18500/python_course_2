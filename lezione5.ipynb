{
 "cells": [
  {
   "cell_type": "markdown",
   "id": "2837f0eb",
   "metadata": {},
   "source": [
    "## Iteratori in Python\n",
    "\n",
    "Gli iteratori sono oggetti che permettono di attraversare collezioni di dati in modo sequenziale, un elemento alla volta, senza dover caricare l'intera collezione in memoria.\n",
    "\n",
    "### Concetto di base\n",
    "\n",
    "In Python, un iteratore è un oggetto che implementa due metodi speciali:\n",
    "- `__iter__()`: ritorna l'oggetto iteratore stesso\n",
    "- `__next__()`: restituisce il prossimo elemento della collezione e solleva `StopIteration` quando non ci sono più elementi\n",
    "\n",
    "### Perché usare gli iteratori?\n",
    "\n",
    "Gli iteratori sono particolarmente utili quando si lavora con:\n",
    "- Dataset di grandi dimensioni\n",
    "- File contenenti molte immagini (es video o scan)\n",
    "- Flussi continui di dati da dispositivi di monitoraggio\n",
    "\n",
    "### Iteratori integrati\n",
    "\n",
    "Molte strutture dati Python sono già iterabili:"
   ]
  },
  {
   "cell_type": "code",
   "execution_count": null,
   "id": "f83fe477",
   "metadata": {},
   "outputs": [],
   "source": [
    "# Liste, tuple, dizionari, set sono tutti iterabili\n",
    "patient_readings = [98.6, 99.1, 97.8, 98.2]\n",
    "\n",
    "for reading in patient_readings:  # Usa implicitamente un iteratore\n",
    "    print(f\"Temperature: {reading}°F\")"
   ]
  },
  {
   "cell_type": "markdown",
   "id": "b7515097",
   "metadata": {},
   "source": [
    "\n",
    "\n",
    "### Creare iteratori personalizzati\n",
    "\n",
    "È possibile definire iteratori personalizzati implementando i metodi richiesti:\n",
    "\n"
   ]
  },
  {
   "cell_type": "code",
   "execution_count": null,
   "id": "2014987a",
   "metadata": {},
   "outputs": [],
   "source": [
    "class ECGDataIterator:\n",
    "    def __init__(self, data, window_size=100):\n",
    "        self.data = data\n",
    "        self.window_size = window_size\n",
    "        self.index = 0\n",
    "    \n",
    "    def __iter__(self):\n",
    "        return self\n",
    "    \n",
    "    def __next__(self):\n",
    "        if self.index + self.window_size >= len(self.data):\n",
    "            raise StopIteration\n",
    "        segment = self.data[self.index:self.index+self.window_size]\n",
    "        self.index += self.window_size\n",
    "        return segment\n",
    "\n",
    "# Uso dell'iteratore personalizzato\n",
    "ecg_data = [random.random() for _ in range(1000)]  # Dati simulati\n",
    "ecg_iterator = ECGDataIterator(ecg_data)\n",
    "\n",
    "for segment in ecg_iterator:\n",
    "    # Processa ogni segmento di 100 punti dati\n",
    "    peak = max(segment)\n",
    "    print(f\"Segment peak value: {peak:.3f}\")"
   ]
  },
  {
   "cell_type": "markdown",
   "id": "441790b4",
   "metadata": {},
   "source": [
    "\n",
    "\n",
    "### Generatori: iteratori semplificati\n",
    "\n",
    "I generatori sono un modo più semplice per creare iteratori, utilizzando la parola chiave `yield`:\n",
    "\n"
   ]
  },
  {
   "cell_type": "code",
   "execution_count": null,
   "id": "42f080f6",
   "metadata": {},
   "outputs": [],
   "source": [
    "def bp_readings_generator(num_readings):\n",
    "    \"\"\"Genera letture simulate della pressione sanguigna.\"\"\"\n",
    "    for i in range(num_readings):\n",
    "        # Simula una lettura della pressione (sistolica/diastolica)\n",
    "        systolic = random.randint(110, 140)\n",
    "        diastolic = random.randint(70, 90)\n",
    "        yield (systolic, diastolic)\n",
    "\n",
    "# Utilizzo del generatore\n",
    "for systolic, diastolic in bp_readings_generator(5):\n",
    "    print(f\"BP: {systolic}/{diastolic} mmHg\")"
   ]
  },
  {
   "cell_type": "markdown",
   "id": "a5ecd7e5",
   "metadata": {},
   "source": [
    "\n",
    "\n",
    "### Funzioni integrate per iteratori\n",
    "\n",
    "Python offre funzioni utili per lavorare con iteratori:\n",
    "- `map()`: applica una funzione a ogni elemento\n",
    "- `filter()`: seleziona elementi in base a una condizione\n",
    "- `zip()`: combina più iterabili\n",
    "\n"
   ]
  },
  {
   "cell_type": "code",
   "execution_count": null,
   "id": "b2573693",
   "metadata": {},
   "outputs": [],
   "source": [
    "temperatures = [36.5, 37.2, 38.0, 36.8, 37.5]\n",
    "patient_ids = [\"A001\", \"A002\", \"A003\", \"A004\", \"A005\"]\n",
    "\n",
    "# Identifica pazienti con febbre\n",
    "fever_patients = list(filter(lambda x: x[1] > 37.2, \n",
    "                             zip(patient_ids, temperatures)))\n",
    "print(f\"Patients with fever: {fever_patients}\")"
   ]
  }
 ],
 "metadata": {
  "language_info": {
   "name": "python"
  }
 },
 "nbformat": 4,
 "nbformat_minor": 5
}
