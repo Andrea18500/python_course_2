{
 "cells": [
  {
   "cell_type": "markdown",
   "id": "2837f0eb",
   "metadata": {},
   "source": [
    "## Iteratori in Python\n",
    "\n",
    "Gli iteratori sono oggetti che permettono di attraversare collezioni di dati in modo sequenziale, un elemento alla volta, senza dover caricare l'intera collezione in memoria.\n",
    "\n",
    "### Concetto di base\n",
    "\n",
    "In Python, un iteratore è un oggetto che implementa due metodi speciali:\n",
    "- `__iter__()`: ritorna l'oggetto iteratore stesso\n",
    "- `__next__()`: restituisce il prossimo elemento della collezione e solleva `StopIteration` quando non ci sono più elementi\n",
    "\n",
    "### Perché usare gli iteratori?\n",
    "\n",
    "Gli iteratori sono particolarmente utili quando si lavora con:\n",
    "- Dataset di grandi dimensioni\n",
    "- File contenenti molte immagini (es video o scan)\n",
    "- Flussi continui di dati da dispositivi di monitoraggio\n",
    "\n",
    "### Iteratori integrati\n",
    "\n",
    "Molte strutture dati Python sono già iterabili:"
   ]
  },
  {
   "cell_type": "code",
   "execution_count": null,
   "id": "f83fe477",
   "metadata": {},
   "outputs": [],
   "source": [
    "# Liste, tuple, dizionari, set sono tutti iterabili\n",
    "patient_readings = [98.6, 99.1, 97.8, 98.2]\n",
    "\n",
    "for reading in patient_readings:  # Usa implicitamente un iteratore\n",
    "    print(f\"Temperature: {reading}°F\")"
   ]
  },
  {
   "cell_type": "markdown",
   "id": "b7515097",
   "metadata": {},
   "source": [
    "\n",
    "\n",
    "### Creare iteratori personalizzati\n",
    "\n",
    "È possibile definire iteratori personalizzati implementando i metodi richiesti:\n",
    "\n"
   ]
  },
  {
   "cell_type": "code",
   "execution_count": null,
   "id": "2014987a",
   "metadata": {},
   "outputs": [],
   "source": [
    "class ECGDataIterator:\n",
    "    def __init__(self, data, window_size=100):\n",
    "        self.data = data\n",
    "        self.window_size = window_size\n",
    "        self.index = 0\n",
    "    \n",
    "    def __iter__(self):\n",
    "        return self\n",
    "    \n",
    "    def __next__(self):\n",
    "        if self.index + self.window_size >= len(self.data):\n",
    "            raise StopIteration\n",
    "        segment = self.data[self.index:self.index+self.window_size]\n",
    "        self.index += self.window_size\n",
    "        return segment\n",
    "\n",
    "# Uso dell'iteratore personalizzato\n",
    "ecg_data = [random.random() for _ in range(1000)]  # Dati simulati\n",
    "ecg_iterator = ECGDataIterator(ecg_data)\n",
    "\n",
    "for segment in ecg_iterator:\n",
    "    # Processa ogni segmento di 100 punti dati\n",
    "    peak = max(segment)\n",
    "    print(f\"Segment peak value: {peak:.3f}\")"
   ]
  },
  {
   "cell_type": "markdown",
   "id": "441790b4",
   "metadata": {},
   "source": [
    "\n",
    "\n",
    "### Generatori: iteratori semplificati\n",
    "\n",
    "I generatori sono un modo più semplice per creare iteratori, utilizzando la parola chiave `yield`:\n",
    "\n"
   ]
  },
  {
   "cell_type": "code",
   "execution_count": null,
   "id": "42f080f6",
   "metadata": {},
   "outputs": [],
   "source": [
    "def bp_readings_generator(num_readings):\n",
    "    \"\"\"Genera letture simulate della pressione sanguigna.\"\"\"\n",
    "    for i in range(num_readings):\n",
    "        # Simula una lettura della pressione (sistolica/diastolica)\n",
    "        systolic = random.randint(110, 140)\n",
    "        diastolic = random.randint(70, 90)\n",
    "        yield (systolic, diastolic)\n",
    "\n",
    "# Utilizzo del generatore\n",
    "for systolic, diastolic in bp_readings_generator(5):\n",
    "    print(f\"BP: {systolic}/{diastolic} mmHg\")"
   ]
  },
  {
   "cell_type": "markdown",
   "id": "a5ecd7e5",
   "metadata": {},
   "source": [
    "\n",
    "\n",
    "### Funzioni integrate per iteratori\n",
    "\n",
    "Python offre funzioni utili per lavorare con iteratori:\n",
    "- `map()`: applica una funzione a ogni elemento\n",
    "- `filter()`: seleziona elementi in base a una condizione\n",
    "- `zip()`: combina più iterabili\n",
    "\n"
   ]
  },
  {
   "cell_type": "code",
   "execution_count": null,
   "id": "b2573693",
   "metadata": {},
   "outputs": [],
   "source": [
    "temperatures = [36.5, 37.2, 38.0, 36.8, 37.5]\n",
    "patient_ids = [\"A001\", \"A002\", \"A003\", \"A004\", \"A005\"]\n",
    "\n",
    "# Identifica pazienti con febbre\n",
    "fever_patients = list(filter(lambda x: x[1] > 37.2, \n",
    "                             zip(patient_ids, temperatures)))\n",
    "print(f\"Patients with fever: {fever_patients}\")"
   ]
  },
  {
   "cell_type": "markdown",
   "id": "75d9c02d",
   "metadata": {},
   "source": [
    "## Esercizio sulle Classi"
   ]
  },
  {
   "cell_type": "markdown",
   "id": "5169a161",
   "metadata": {},
   "source": [
    "## File Handling"
   ]
  },
  {
   "cell_type": "markdown",
   "id": "1f5de590",
   "metadata": {},
   "source": [
    "## Error Handling\n",
    "Gli errori in python possono essere di diversi tipi ma si possono raggruppare in due principali macro-categroie:\n",
    "- Syntax Error\n",
    "- Exceptions\n",
    "\n",
    "GLi errori di sintassi non sono altro che una scrittura sbaglita del codice, come fare un errore di grammatica.\n",
    "\n",
    "Le Eccezioni invece sono come fare un errore di \"significato\" ovvero scrivere qualcosa che è corretto ma che porta ad un errore di qualunque tipo.\n",
    "\n",
    "**Per esempio:**\n",
    "- Marco mangia il mela\n",
    "- La mela mangia Marco\n",
    "\n",
    "La prima frase è ovviamente sbagliata perchè ...\n",
    "La seconda ovviamente non ha senso perchè ...\n",
    "\n",
    "Ma mettiamo di essere il professor Charles Lutewidge Dodgson (Meglio conosciuto come Lewiss Carroll) ....\n",
    "ha senso anche il contrario\n"
   ]
  },
  {
   "cell_type": "markdown",
   "id": "ab099602",
   "metadata": {},
   "source": [
    "Per esempio:"
   ]
  },
  {
   "cell_type": "code",
   "execution_count": 2,
   "id": "08deae62",
   "metadata": {},
   "outputs": [
    {
     "ename": "SyntaxError",
     "evalue": "unmatched ')' (592486622.py, line 2)",
     "output_type": "error",
     "traceback": [
      "  \u001b[36mCell\u001b[39m\u001b[36m \u001b[39m\u001b[32mIn[2]\u001b[39m\u001b[32m, line 2\u001b[39m\n\u001b[31m    \u001b[39m\u001b[31mprint(0 / 0))\u001b[39m\n                ^\n\u001b[31mSyntaxError\u001b[39m\u001b[31m:\u001b[39m unmatched ')'\n"
     ]
    }
   ],
   "source": [
    "print(\"una stringa\")\n",
    "print(0 / 0))"
   ]
  },
  {
   "cell_type": "markdown",
   "id": "8682c216",
   "metadata": {},
   "source": [
    "Questo è un \"SyntaxError\" e noto che il messaggio di errore mi dà già un suggerimento su cosa è andato storto:\n",
    "```py\n",
    "    print(0 / 0))\n",
    "                ^\n",
    "SyntaxError: unmatched ')'\n",
    "```\n",
    "e dove:\n",
    "```py\n",
    "Cell In[2], line 2\n",
    "```\n",
    "\n",
    "Se ora correggo il codice invece:"
   ]
  },
  {
   "cell_type": "code",
   "execution_count": 4,
   "id": "2902c967",
   "metadata": {},
   "outputs": [
    {
     "name": "stdout",
     "output_type": "stream",
     "text": [
      "una stringa\n"
     ]
    },
    {
     "ename": "ZeroDivisionError",
     "evalue": "division by zero",
     "output_type": "error",
     "traceback": [
      "\u001b[31m---------------------------------------------------------------------------\u001b[39m",
      "\u001b[31mZeroDivisionError\u001b[39m                         Traceback (most recent call last)",
      "\u001b[36mCell\u001b[39m\u001b[36m \u001b[39m\u001b[32mIn[4]\u001b[39m\u001b[32m, line 2\u001b[39m\n\u001b[32m      1\u001b[39m \u001b[38;5;28mprint\u001b[39m(\u001b[33m\"\u001b[39m\u001b[33muna stringa\u001b[39m\u001b[33m\"\u001b[39m)\n\u001b[32m----> \u001b[39m\u001b[32m2\u001b[39m \u001b[38;5;28mprint\u001b[39m((\u001b[32;43m0\u001b[39;49m\u001b[43m \u001b[49m\u001b[43m/\u001b[49m\u001b[43m \u001b[49m\u001b[32;43m0\u001b[39;49m))\n",
      "\u001b[31mZeroDivisionError\u001b[39m: division by zero"
     ]
    }
   ],
   "source": [
    "print(\"una stringa\")\n",
    "print((0 / 0))"
   ]
  },
  {
   "cell_type": "markdown",
   "id": "5ae9a692",
   "metadata": {},
   "source": [
    "Noto intanto che a differenza di prima il primo print ha funzionato. Poi noto che ho ottenuto un tipo di errore diverso: \"ZeroDivisionError\".\n",
    "\n",
    "Python non mi dice semplicemente \"Exception Error\" ma mi dice esattamente che **tipo** di errore è! In questo caso uno \"ZeroDivisionError\". Questo non è nient'altro che un modo built-in di gestire questo tipo di errori, infatti python ha integrati diverse \"Exceptions\" di \"default\". Ma possiamo anche crearne di personalizzate!"
   ]
  },
  {
   "cell_type": "markdown",
   "id": "2fbbaef9",
   "metadata": {},
   "source": [
    "### Assertion Error"
   ]
  },
  {
   "cell_type": "code",
   "execution_count": 5,
   "id": "7a1801a7",
   "metadata": {},
   "outputs": [
    {
     "name": "stdout",
     "output_type": "stream",
     "text": [
      "1\n"
     ]
    }
   ],
   "source": [
    "number = 1\n",
    "if number > 5:\n",
    "    raise Exception(f\"The number should not exceed 5. ({number=})\")\n",
    "print(number)"
   ]
  },
  {
   "cell_type": "code",
   "execution_count": 6,
   "id": "f9356efe",
   "metadata": {},
   "outputs": [
    {
     "name": "stdout",
     "output_type": "stream",
     "text": [
      "1\n"
     ]
    }
   ],
   "source": [
    "number = 1\n",
    "assert (number < 5), f\"The number should not exceed 5. ({number=})\"\n",
    "print(number)"
   ]
  },
  {
   "cell_type": "code",
   "execution_count": null,
   "id": "cb0c53ca",
   "metadata": {},
   "outputs": [
    {
     "ename": "AssertionError",
     "evalue": "The number should not exceed 5. (number=10)",
     "output_type": "error",
     "traceback": [
      "\u001b[31m---------------------------------------------------------------------------\u001b[39m",
      "\u001b[31mAssertionError\u001b[39m                            Traceback (most recent call last)",
      "\u001b[36mCell\u001b[39m\u001b[36m \u001b[39m\u001b[32mIn[7]\u001b[39m\u001b[32m, line 2\u001b[39m\n\u001b[32m      1\u001b[39m number = \u001b[32m10\u001b[39m\n\u001b[32m----> \u001b[39m\u001b[32m2\u001b[39m \u001b[38;5;28;01massert\u001b[39;00m (number < \u001b[32m5\u001b[39m), \u001b[33mf\u001b[39m\u001b[33m\"\u001b[39m\u001b[33mThe number should not exceed 5. (\u001b[39m\u001b[38;5;132;01m{\u001b[39;00mnumber\u001b[38;5;132;01m=}\u001b[39;00m\u001b[33m)\u001b[39m\u001b[33m\"\u001b[39m\n\u001b[32m      3\u001b[39m \u001b[38;5;28mprint\u001b[39m(number)\n",
      "\u001b[31mAssertionError\u001b[39m: The number should not exceed 5. (number=10)"
     ]
    }
   ],
   "source": [
    "number = 10\n",
    "assert (number < 5), f\"The number should not exceed 5. ({number=})\"\n",
    "print(number)"
   ]
  },
  {
   "cell_type": "markdown",
   "id": "3190cf54",
   "metadata": {},
   "source": [
    "Tuttavia, non dovreste affidarvi alle *assertion* per rilevare condizioni di esecuzione cruciali del programma in produzione. Questo perché Python disabilita globalmente le *assertion* quando lo esegui in modalità ottimizzata utilizzando le opzioni della riga di comando `-O` e `-OO`:\n",
    "```shell\n",
    "$ python -O low.py\n",
    "10\n",
    "```"
   ]
  },
  {
   "cell_type": "markdown",
   "id": "68a4c36d",
   "metadata": {},
   "source": [
    "### Try & Except"
   ]
  },
  {
   "cell_type": "code",
   "execution_count": 14,
   "id": "0f510b09",
   "metadata": {},
   "outputs": [],
   "source": [
    "def linux_interaction():\n",
    "    import sys\n",
    "    if \"windows\" not in sys.platform:\n",
    "        raise RuntimeError(\"Function can only run on Linux systems.\")\n",
    "    print(\"Doing Linux things.\")"
   ]
  },
  {
   "cell_type": "code",
   "execution_count": 15,
   "id": "5f5e8772",
   "metadata": {},
   "outputs": [],
   "source": [
    "# ...\n",
    "\n",
    "try:\n",
    "    linux_interaction()\n",
    "except:\n",
    "    pass"
   ]
  },
  {
   "cell_type": "markdown",
   "id": "0b496ea6",
   "metadata": {},
   "source": [
    "ma non è il massimo"
   ]
  },
  {
   "cell_type": "code",
   "execution_count": 16,
   "id": "2fa2593e",
   "metadata": {},
   "outputs": [
    {
     "name": "stdout",
     "output_type": "stream",
     "text": [
      "Linux function wasn't executed.\n"
     ]
    }
   ],
   "source": [
    "# ...\n",
    "\n",
    "try:\n",
    "    linux_interaction()\n",
    "except:\n",
    "    print(\"Linux function wasn't executed.\")"
   ]
  },
  {
   "cell_type": "markdown",
   "id": "c91c9520",
   "metadata": {},
   "source": [
    "Adesso vedo cosa sta andndo storto e il programma continua senza fermarsi!"
   ]
  },
  {
   "cell_type": "code",
   "execution_count": 17,
   "id": "af3da026",
   "metadata": {},
   "outputs": [
    {
     "name": "stdout",
     "output_type": "stream",
     "text": [
      "Function can only run on Linux systems.\n",
      "The linux_interaction() function wasn't executed.\n"
     ]
    }
   ],
   "source": [
    "# ...\n",
    "\n",
    "try:\n",
    "    linux_interaction()\n",
    "except RuntimeError as error:\n",
    "    print(error)\n",
    "    print(\"The linux_interaction() function wasn't executed.\")"
   ]
  },
  {
   "cell_type": "markdown",
   "id": "b3260a15",
   "metadata": {},
   "source": [
    "In the except clause, you assign the RuntimeError to the temporary variable error—often also called err—so that you can access the exception object in the indented block. In this case, you’re printing the object’s string representation, which corresponds to the error message attached to the object.\n",
    "\n",
    "**Esempio con I file e con un eccezione built in:**"
   ]
  },
  {
   "cell_type": "code",
   "execution_count": 18,
   "id": "d477bafc",
   "metadata": {},
   "outputs": [
    {
     "name": "stdout",
     "output_type": "stream",
     "text": [
      "Couldn't open file.log\n"
     ]
    }
   ],
   "source": [
    "try:\n",
    "    with open(\"file.log\") as file:\n",
    "        read_data = file.read()\n",
    "except:\n",
    "    print(\"Couldn't open file.log\")"
   ]
  },
  {
   "cell_type": "markdown",
   "id": "da14d0c4",
   "metadata": {},
   "source": [
    "Il problema è che `except` al momento prende (*catch*) tutte le eccezioni! Anche se non centrano con l'aprire il file!\n",
    "\n",
    "Per questo è utile specificare le condizioni in cui una certa eccezione avviene. Except da solo è come la pesca a strascico, se devo dire cosa ho preso all'utente dico boh, probabilmente tonno? Noi vogliamo usare la canna da pesca per spiegare all'utente esattamente cosa abbiamo catturato!\n",
    "\n",
    "per essere più precisi:\n",
    "> **Warning**: When you use a bare except clause, then Python catches any exception that inherits from Exception—which are most built-in exceptions! Catching the parent class, Exception, hides all errors—even those which you didn’t expect at all. This is why you should avoid bare except clauses in your Python programs.\n",
    "> \n",
    ">Instead, you’ll want to refer to specific exception classes that you want to catch and handle. You can learn more about why this is a good idea in this tutorial.\n",
    ">\n",
    "> *-https://realpython.com/python-exceptions/*\n"
   ]
  },
  {
   "cell_type": "code",
   "execution_count": 19,
   "id": "7a19506f",
   "metadata": {},
   "outputs": [
    {
     "name": "stdout",
     "output_type": "stream",
     "text": [
      "Function can only run on Linux systems.\n",
      "Linux linux_interaction() function wasn't executed.\n"
     ]
    }
   ],
   "source": [
    "# ...\n",
    "\n",
    "try:\n",
    "    linux_interaction()\n",
    "    with open(\"file.log\") as file:\n",
    "        read_data = file.read()\n",
    "except FileNotFoundError as fnf_error:\n",
    "    print(fnf_error)\n",
    "except RuntimeError as error:\n",
    "    print(error)\n",
    "    print(\"Linux linux_interaction() function wasn't executed.\")"
   ]
  },
  {
   "cell_type": "markdown",
   "id": "fe1b4b99",
   "metadata": {},
   "source": [
    "If you run this code on a macOS or Windows machine, then you’ll see the following:\n",
    "```shell\n",
    "$ python linux_interaction.py\n",
    "Function can only run on Linux systems.\n",
    "Linux linux_interaction() function wasn't executed\n",
    "```\n",
    "\n",
    "Inside the try clause, you ran into an exception immediately and didn’t get to the part where you attempt to open file.log. Now look at what happens when you run the code on a Linux machine if the file doesn’t exist:\n",
    "\n",
    "```shell\n",
    "$ python linux_interaction.py\n",
    "[Errno 2] No such file or directory: 'file.log'\n",
    "```\n",
    "\n",
    "Note that if you’re handling specific exceptions as you did above, then the order of the except clauses doesn’t matter too much. It’s all about which of the exceptions Python raises first. As soon as Python raises an exception, it checks the except clauses from top to bottom and executes the first matching one that it finds."
   ]
  }
 ],
 "metadata": {
  "kernelspec": {
   "display_name": ".venv",
   "language": "python",
   "name": "python3"
  },
  "language_info": {
   "codemirror_mode": {
    "name": "ipython",
    "version": 3
   },
   "file_extension": ".py",
   "mimetype": "text/x-python",
   "name": "python",
   "nbconvert_exporter": "python",
   "pygments_lexer": "ipython3",
   "version": "3.12.3"
  }
 },
 "nbformat": 4,
 "nbformat_minor": 5
}
