{
 "cells": [
  {
   "cell_type": "markdown",
   "id": "634a5750",
   "metadata": {},
   "source": [
    "# Pandas 🐼🐼🐼"
   ]
  },
  {
   "cell_type": "markdown",
   "id": "4d5371ce",
   "metadata": {},
   "source": [
    "### Miglior strumento di data wrangling\n",
    "\n",
    "Pandas è ideale per il data wrangling, ovvero il processo di trasformazione e pulizia dei dati grezzi per analisi e modelli, mentre NumPy/array eccelle nei calcoli intensivi una volta che il dataset è pronto."
   ]
  },
  {
   "cell_type": "markdown",
   "id": "308c465a",
   "metadata": {},
   "source": [
    "| Esigenza tipica                                                  | Funzionalità Pandas                     | Quando serve                                                                |\n",
    "| ---------------------------------------------------------------- | --------------------------------------- | --------------------------------------------------------------------------- |\n",
    "| 1. **Importare** formati eterogenei (CSV, Excel, TSV, JSON, SQL) | `read_*()`                              | Ogni volta che i dati provengono da laboratori, EHR, registry o altri dispositivi |\n",
    "| 2. **Pulire** dati sporchi o parziali                            | `dropna`, `fillna`, `astype`, `replace` | Prima di qualsiasi statistica o di usarli per Machine Learning                                          |\n",
    "| 3. **Ristrutturare** il dataset (modificarne la struttura per facilitarne l’analisi o per adattarlo a specifiche esigenze)                                  | `melt`, `pivot`, `stack/unstack`        | Per allineare o sistemare misure longitudinali, matrici di espressione...                 |\n",
    "| 4. **Filtrare & creare sottogruppi**                                    | Boolean indexing, `query`, `groupby`    | Focus su un fenotipo, un trattamento, un gene...                               |\n",
    "| 5. **Aggregare & statistiche rapide**                            | `groupby().agg()`, `describe`           | Report clinici, cruscotti QC (Quality Control)...                                                |\n",
    "| 6. **Merge/Join** di più fonti                                   | `merge`, `concat`                       | Integrare imaging + clinica + omics (Dati omici → Genomica, trascrittomica, proteomica, metabolomica)                                         |\n",
    "| 7. **Time series per il monitoraggio continuo**                                               | `to_datetime`, `resample`, `rolling`    | Wearable, follow-up, Analisi di segnali continui in terapia intensiva (ICU waveform analysis)...                                           |\n"
   ]
  },
  {
   "cell_type": "markdown",
   "id": "308c465a",
   "metadata": {},
   "source": [
    "### Perché non basta usare liste Python o array NumPy al posto di Pandas?"
   ]
  },
  {
   "cell_type": "markdown",
   "id": "c35f5f71",
   "metadata": {},
   "source": [
    "| Esigenza tipica nei dati biomedici                     | Liste Python                                | NumPy array                                           | Pandas DataFrame                                |\n",
    "| ------------------------------------------------------ | ------------------------------------------- | ----------------------------------------------------- | ----------------------------------------------- |\n",
    "| **Etichette (ID paziente, nome gene, tempo)**          | ❌ gestite “a mano” con strutture ausiliarie | ❌ non esistono; solo indici interi                    | ✅ `index`, `columns`, gerarchici (`MultiIndex`) |\n",
    "| **Gestire dati eterogenei** (numeri + stringhe + date)         | ✅ ma zero funzioni vettoriali               | ⚠️ possibile con `dtype=object`, ma perde in performance | ✅ colonne con tipi diversi, ottimizzate         |\n",
    "| **Valori mancanti** (`NaN`, `None`, sentinel)          | ❌ serve logica ad-hoc                       | ⚠️ `np.nan` solo per float; complicato per tipi misti | ✅ `isna` per identificare valori mancanti, `fillna`per riempire valori mancanti, propagazione coerente per propagare il valore precedente o successivo nelle celle vuote.       |\n",
    "| **Operazioni “SQL-like”** (`groupby`, `join`, `pivot`) | ❌ codice manuale e ciclo esplicito          | ❌ non previste                                        | ✅ una riga di codice idiomatica (ovvero con funzioni intuitive e efficienti)                |\n",
    "| **Time series**             | ❌ da implementare                           | ⚠️ serve `np.searchsorted`/for loop                   | ✅ API dedicate (`resample` per aggregazione a intervalli temporali, `rolling` per applicare operazioni statistiche su una finestra mobile di dati, `shift` per confrontare valori tra istanti di tempo diversi) |\n",
    "| **I/O (input/output) nativo** (CSV, Excel, SQL, Parquet)              | ❌ librerie esterne, parsing manuale         | ❌ idem                                                | ✅ `read_*`, `to_*` tutte funzioni one-liner                    |\n",
    "| **Leggibilità notebook/paper**                         | 😐 spesso 3-4 strutture parallele           | 😐 array senza intestazioni esplicite                             | 😀 tabelle auto-formattate                      |\n"
   ]
  },
  {
   "cell_type": "markdown",
   "id": "f9cf36aa",
   "metadata": {},
   "source": [
    "### 🏥 1 | Analisi di dataset clinici multifattoriali\n",
    "(= studiare dati sanitari considerando più variabili contemporaneamente, come età, sesso, genetica, stile di vita, parametri fisiologici ...)\n",
    "\n",
    "Scenario\n",
    "Cartella clinica con: età, sesso, BMI, pressione S/D, HbA1c, diagnosi, outcome."
   ]
  },
  {
   "cell_type": "code",
   "execution_count": 1,
   "id": "0190fa75",
   "metadata": {},
   "outputs": [
    {
     "ename": "ModuleNotFoundError",
     "evalue": "No module named 'pandas'",
     "output_type": "error",
     "traceback": [
      "\u001b[31m---------------------------------------------------------------------------\u001b[39m",
      "\u001b[31mModuleNotFoundError\u001b[39m                       Traceback (most recent call last)",
      "\u001b[36mCell\u001b[39m\u001b[36m \u001b[39m\u001b[32mIn[1]\u001b[39m\u001b[32m, line 1\u001b[39m\n\u001b[32m----> \u001b[39m\u001b[32m1\u001b[39m \u001b[38;5;28;01mimport\u001b[39;00m\u001b[38;5;250m \u001b[39m\u001b[34;01mpandas\u001b[39;00m\u001b[38;5;250m \u001b[39m\u001b[38;5;28;01mas\u001b[39;00m\u001b[38;5;250m \u001b[39m\u001b[34;01mpd\u001b[39;00m\n\u001b[32m      2\u001b[39m df = pd.read_csv(\u001b[33m\"\u001b[39m\u001b[33mregistry_diabete.csv\u001b[39m\u001b[33m\"\u001b[39m)\n\u001b[32m      3\u001b[39m df[\u001b[33m\"\u001b[39m\u001b[33mdiagnosi\u001b[39m\u001b[33m\"\u001b[39m] = df[\u001b[33m\"\u001b[39m\u001b[33mdiagnosi\u001b[39m\u001b[33m\"\u001b[39m].str.upper().str.strip()  \u001b[38;5;66;03m# normalizzo\u001b[39;00m\n",
      "\u001b[31mModuleNotFoundError\u001b[39m: No module named 'pandas'"
     ]
    }
   ],
   "source": [
    "import pandas as pd\n",
    "df = pd.read_csv(\"registry_diabete.csv\")\n",
    "df[\"diagnosi\"] = df[\"diagnosi\"].str.upper().str.strip()  # normalizzo\n",
    "stats = (df.groupby(\"diagnosi\")[[\"HbA1c\", \"pressione_S\", \"pressione_D\"]]\n",
    "           .mean()\n",
    "           .round(2))"
   ]
  },
  {
   "cell_type": "markdown",
   "id": "e2ea6a70",
   "metadata": {},
   "source": [
    "Utilità:\n",
    "- Pulizia nomenclatura diagnosi\n",
    "- Statistiche descrittive per reparto\n",
    "- Individuazione outlier (df[df[\"HbA1c\"]>12])\n",
    "- Esportazione rapida in Excel per il board clinico (stats.to_excel(\"summary.xlsx\"))\n",
    "\n",
    "{Tabella heat-map dei valori medi di HbA1c per diagnosi}"
   ]
  },
  {
   "cell_type": "markdown",
   "id": "0b5967e6",
   "metadata": {},
   "source": [
    "### 🧬 2 | Trascrittomica / RNA-seq\n",
    "Scenario\n",
    "Matrice genes × samples (>30 000 × 200)."
   ]
  },
  {
   "cell_type": "code",
   "execution_count": null,
   "id": "06d1d11a",
   "metadata": {},
   "outputs": [],
   "source": [
    "expr = pd.read_parquet(\"rna_seq.parquet\")  # veloce su big data\n",
    "# Filtra geni espressi\n",
    "expr = expr.loc[expr.mean(axis=1) > 1]\n",
    "corr = expr.T.corr(method=\"spearman\")"
   ]
  },
  {
   "cell_type": "markdown",
   "id": "479c8270",
   "metadata": {},
   "source": [
    "Utilità:\n",
    "- Lettura in Parquet → RAM-efficient\n",
    "- Filtri basati su media/varianza\n",
    "- Calcolo di reti di co-espressione\n",
    "- Output diretto verso Seaborn/Scanpy"
   ]
  },
  {
   "cell_type": "markdown",
   "id": "eb7d5d7d",
   "metadata": {},
   "source": [
    "### 🧠 3 | Imaging e Quantificazione\n",
    "Scenario\n",
    "CSV export da 3D Slicer: ID paziente, ROI, volume (mm³), densità (HU)."
   ]
  },
  {
   "cell_type": "code",
   "execution_count": null,
   "id": "8f485420",
   "metadata": {},
   "outputs": [],
   "source": [
    "img = pd.read_csv(\"slicer_ROI_metrics.csv\")\n",
    "lesioni = img.query(\"volume_mm3 > 500 & ROI == 'tumor'\")\n",
    "trend = (lesioni.groupby(\"patient_id\")\n",
    "                 .apply(lambda g: g.sort_values(\"scan_date\")\n",
    "                                    .assign(delta=g[\"volume_mm3\"].diff())))\n"
   ]
  },
  {
   "cell_type": "markdown",
   "id": "1e1c6314",
   "metadata": {},
   "source": [
    "Utilità:\n",
    "- Filtraggio rapido su soglia volumetrica\n",
    "- Calcolo delta-volume fra follow-up\n",
    "- Facilita il merge con outcome clinici"
   ]
  },
  {
   "cell_type": "markdown",
   "id": "6b28af33",
   "metadata": {},
   "source": [
    "### 🧫 4 | High-Content Screening (96-well, 384-well)\n",
    "Scenario\n",
    "Assorbanza OD a 0 h, 24 h, 48 h per 300 composti."
   ]
  },
  {
   "cell_type": "code",
   "execution_count": null,
   "id": "072ed88e",
   "metadata": {},
   "outputs": [],
   "source": [
    "raw = pd.read_excel(\"HCS_readout.xlsx\")\n",
    "pivot = raw.pivot_table(values=\"OD\",\n",
    "                        index=[\"compound_id\"],\n",
    "                        columns=[\"time_h\"])\n",
    "pivot[\"growth_%\"] = (pivot[48] - pivot[0]) / pivot[0] * 100\n",
    "top_hits = pivot.nlargest(10, \"growth_%\")"
   ]
  },
  {
   "cell_type": "markdown",
   "id": "8fae3146",
   "metadata": {},
   "source": [
    "Utilità\n",
    "- pivot_table rende il dataset “wide” per calcolo Δ\n",
    "- Rank dei top-hits per successiva validazione\n",
    "- Integrare annotazioni chimiche con merge\n",
    "\n",
    "{Foto di piastra 384-well con pozzi colorimetrici + barplot crescita}"
   ]
  },
  {
   "cell_type": "markdown",
   "id": "6e59cdc2",
   "metadata": {},
   "source": [
    "### 💉 5. Studi di Coorte Longitudinali\n",
    "Scenario:\n",
    "Dataset con pazienti seguiti per 5 anni, misurando outcome clinici (es. progressione di malattia, sopravvivenza, esiti)."
   ]
  },
  {
   "cell_type": "code",
   "execution_count": null,
   "id": "4c9ec7b1",
   "metadata": {},
   "outputs": [],
   "source": [
    "df[\"data_visita\"] = pd.to_datetime(df[\"data_visita\"])\n",
    "df.sort_values([\"paziente_id\", \"data_visita\"], inplace=True)\n",
    "\n",
    "\n",
    "cohort = pd.read_csv(\"coorte_cardiologia.csv\", parse_dates=[\"visit_date\"])\n",
    "cohort.sort_values([\"patient_id\", \"visit_date\"], inplace=True)\n",
    "cohort[\"years_from_baseline\"] = (cohort[\"visit_date\"] -\n",
    "                                 cohort.groupby(\"patient_id\")[\"visit_date\"].transform(\"first\")\n",
    "                                ).dt.days / 365.25"
   ]
  },
  {
   "cell_type": "markdown",
   "id": "d7673236",
   "metadata": {},
   "source": [
    "Utilità:\n",
    "- Ordinamento e calcolo di intervalli temporali\n",
    "- Analisi per paziente o sottogruppo\n",
    "- Calcolo della progressione (delta valori nel tempo)\n",
    "\n",
    "{Grafico temporale con andamento di biomarcatori in un paziente nel tempo}"
   ]
  },
  {
   "cell_type": "markdown",
   "id": "38490599",
   "metadata": {},
   "source": [
    "# Numpy\n",
    "\n",
    "NumPy is a Python library that provides a simple yet powerful data structure: the n-dimensional array.\n",
    "\n",
    "**Perché scegliere NumPy**\n",
    "Pur conoscendo già Python “puro” (con i suoi cicli `for`, la lettura/scrittura di CSV, ecc.), NumPy introduce un paradigma che offre vantaggi concreti:\n",
    "\n",
    "1. **Maggiore velocità**\n",
    "\n",
    "   * NumPy utilizza algoritmi implementati in C, che eseguono operazioni in nanosecondi anziché in secondi.\n",
    "2. **Riduzione dei cicli**\n",
    "\n",
    "   * Grazie alle strutture array, è possibile comporre operazioni vettoriali che eliminano gran parte dei loop manuali e l’indice di iterazione.\n",
    "3. **Codice più leggibile**\n",
    "\n",
    "   * Senza cicli annidati, le espressioni nel codice assomigliano molto di più alle equazioni matematiche che si vogliono calcolare.\n",
    "4. **Alta qualità e affidabilità**\n",
    "\n",
    "   * Un’ampia comunità di sviluppatori mantiene NumPy veloce, di facile utilizzo e privo di bug.\n",
    "\n",
    "**Conclusione**\n",
    "Questi fattori hanno reso NumPy lo standard “de facto” per gli array multidimensionali in Python applicato alla data science. Molte librerie popolari si basano su NumPy: impararlo fornisce una solida base su cui poi sviluppare competenze più avanzate in ambiti specifici.\n"
   ]
  },
  {
   "cell_type": "code",
   "execution_count": null,
   "id": "56b1f7e0",
   "metadata": {
    "vscode": {
     "languageId": "shellscript"
    }
   },
   "outputs": [
    {
     "name": "stdout",
     "output_type": "stream",
     "text": [
      "Collecting numpy\n",
      "  Using cached numpy-2.2.5-cp312-cp312-manylinux_2_17_x86_64.manylinux2014_x86_64.whl.metadata (62 kB)\n",
      "Using cached numpy-2.2.5-cp312-cp312-manylinux_2_17_x86_64.manylinux2014_x86_64.whl (16.1 MB)\n",
      "Installing collected packages: numpy\n",
      "Successfully installed numpy-2.2.5\n"
     ]
    }
   ],
   "source": [
    "%%bash\n",
    "# attiviamo l'ambiente virutale\n",
    ". .venv/bin/activate\n",
    "# Installiamo numpy\n",
    "pip install numpy"
   ]
  },
  {
   "cell_type": "code",
   "execution_count": 13,
   "id": "caa2cd4b",
   "metadata": {},
   "outputs": [
    {
     "name": "stdout",
     "output_type": "stream",
     "text": [
      "[72 35 64 88 51 90 74 12]\n",
      "[72, 35, 64, 88, 51, 90, 74, 12]\n"
     ]
    }
   ],
   "source": [
    "import numpy as np\n",
    "\n",
    "CURVE_CENTER = 80 # Sintassi standard per le costanti\n",
    "grades = np.array([72, 35, 64, 88, 51, 90, 74, 12])\n",
    "grades_list = [72, 35, 64, 88, 51, 90, 74, 12]\n",
    "\n",
    "print(grades)\n",
    "print(grades_list)"
   ]
  },
  {
   "cell_type": "code",
   "execution_count": 15,
   "id": "8333435b",
   "metadata": {},
   "outputs": [
    {
     "name": "stdout",
     "output_type": "stream",
     "text": [
      "<class 'numpy.ndarray'>\n",
      "<class 'list'>\n"
     ]
    }
   ],
   "source": [
    "print(type(grades))\n",
    "print(type(grades_list))"
   ]
  },
  {
   "cell_type": "code",
   "execution_count": 14,
   "id": "c039cf47",
   "metadata": {},
   "outputs": [
    {
     "data": {
      "text/plain": [
       "array([ 91.25,  54.25,  83.25, 100.  ,  70.25, 100.  ,  93.25,  31.25])"
      ]
     },
     "execution_count": 14,
     "metadata": {},
     "output_type": "execute_result"
    }
   ],
   "source": [
    "def curve(grades):\n",
    "     average = grades.mean()\n",
    "     change = CURVE_CENTER - average\n",
    "     new_grades = grades + change\n",
    "     return np.clip(new_grades, grades, 100)\n",
    "\n",
    "curve(grades)"
   ]
  },
  {
   "cell_type": "markdown",
   "id": "8cee3527",
   "metadata": {},
   "source": [
    "1. **Importazione di NumPy**\n",
    "   Alla riga 1 si importa la libreria NumPy con l’alias `np`, una convenzione che abbrevia i comandi successivi.\n",
    "\n",
    "2. **Creazione dell’array**\n",
    "   Alla riga 3 si definisce un array monodimensionale chiamato `grades` di lunghezza 8 e tipo `int64`. In seguito esplorerai forma e tipo dei dati più a fondo, ma per ora basti sapere che hai un vettore di 8 valori interi.\n",
    "\n",
    "3. **Calcolo della media**\n",
    "   Alla riga 5 si richiama il metodo `.mean()` sull’array: in un solo passaggio NumPy somma tutti gli elementi e ne restituisce la media. Gli array di NumPy dispongono di numerosi metodi analoghi per operazioni statistiche o matematiche.\n",
    "\n",
    "4. **Vectorization e Broadcasting**\n",
    "   Alla riga 7 si sfruttano due concetti chiave:\n",
    "\n",
    "   * **Vectorization**: l’operazione (es. somma di uno stesso valore) viene applicata simultaneamente a tutti gli elementi dell’array, eliminando la necessità di cicli espliciti.\n",
    "   * **Broadcasting**: NumPy “allinea” array di forme diverse per permettere calcoli vettoriali fra loro. Qui `grades` è un array shape `(8,)` e `change` è uno scalare shape `(1,)`; NumPy aggiunge automaticamente `change` a ciascun elemento di `grades`. Non avrebbe funzionato se grades fosse stata una lista!\n",
    "\n",
    "5. **Clipping dei valori**\n",
    "   Alla riga 8 si utilizza la funzione `np.clip()`, che garantisce che i voti “curve‑dati” non scendano sotto un minimo né superino un massimo.\n",
    "\n",
    "   * Il secondo argomento di `clip()` è proprio l’array originale `grades`: così ogni voto corretto non scende mai al di sotto del suo valore iniziale.\n",
    "   * Il terzo argomento è lo scalare `100`, che tramite broadcasting assicura che nessun voto ecceda il 100%.\n",
    "\n",
    "> **Consiglio**: NumPy mette a disposizione decine di funzioni e metodi specializzati. Se ti sembra di ripetere operazioni comuni o di dover scrivere cicli, consulta la documentazione: molto probabilmente esiste già una routine adatta.\n"
   ]
  },
  {
   "cell_type": "code",
   "execution_count": null,
   "id": "b845b4b9",
   "metadata": {
    "vscode": {
     "languageId": "shellscript"
    }
   },
   "outputs": [],
   "source": [
    "%%bash\n",
    "# installiamo matplotlib\n",
    "pip install numpy matplotlib"
   ]
  },
  {
   "cell_type": "markdown",
   "id": "79838613",
   "metadata": {},
   "source": [
    "## Forme degli array (Shape)\n",
    "\n",
    "* **Shape** è la tupla che descrive la dimensione di ciascun asse di un array.\n",
    "* Ogni array NumPy espone la proprietà `.shape`, che restituisce tale tupla.\n",
    "* È fondamentale che gli array abbiano la forma che le funzioni si aspettano: un controllo rapido è stampare l’array insieme a `array.shape`.\n",
    "\n",
    "**Esempio: creazione e verifica di un array 3D 2×2×3**"
   ]
  },
  {
   "cell_type": "code",
   "execution_count": null,
   "id": "ee7c8d29",
   "metadata": {
    "vscode": {
     "languageId": "shellscript"
    }
   },
   "outputs": [
    {
     "name": "stdout",
     "output_type": "stream",
     "text": [
      "(2, 2, 3)\n",
      "[[[29.3 42.1 18.8]\n",
      "  [16.1 38.  12.5]]\n",
      "\n",
      " [[12.6 49.9 38.6]\n",
      "  [31.3  9.2 22.2]]]\n"
     ]
    }
   ],
   "source": [
    "import numpy as np\n",
    "\n",
    "# Creo un vettore di 12 temperature e lo rimodello in un blocco 2×2×3\n",
    "temperatures = np.array([\n",
    "    29.3, 42.1, 18.8, 16.1, 38.0, 12.5,\n",
    "    12.6, 49.9, 38.6, 31.3,  9.2, 22.2\n",
    "]).reshape(2, 2, 3)\n",
    "# Verifico la shape\n",
    "print(temperatures.shape)\n",
    "\n",
    "# Visualizzo l’array\n",
    "print(temperatures)"
   ]
  },
  {
   "cell_type": "code",
   "execution_count": null,
   "id": "d7be6ac2",
   "metadata": {
    "vscode": {
     "languageId": "shellscript"
    }
   },
   "outputs": [
    {
     "data": {
      "text/plain": [
       "np.float64(22.2)"
      ]
     },
     "execution_count": 25,
     "metadata": {},
     "output_type": "execute_result"
    }
   ],
   "source": [
    "# Supponiamo di voler selezionare la temperatura 22.2\n",
    "temperature = temperatures[1, 1, 2]\n",
    "# [\"tabella\", \"riga\", \"colonn\"]\n",
    "temperature"
   ]
  },
  {
   "cell_type": "markdown",
   "id": "4cabb2cc",
   "metadata": {},
   "source": [
    "* Con tre o più dimensioni diventa difficile “vedere” i dati; per questo è utile\n",
    "\n",
    "  * ribaltare (“swap”) assi con `.swapaxes()`\n",
    "  * stampare shape e contenuto finché non si è certi della disposizione.\n",
    "\n",
    "**Esempio: scambiare l’asse 1 con l’asse 2**\n",
    "\n",
    "```python\n",
    "reordered = np.swapaxes(temperatures, 1, 2)\n",
    "print(reordered)\n",
    "# Output:\n",
    "# array([[[29.3, 16.1],\n",
    "#         [42.1, 38. ],\n",
    "#         [18.8, 12.5]],\n",
    "#\n",
    "#        [[12.6, 31.3],\n",
    "#         [49.9,  9.2],\n",
    "#         [38.6, 22.2]]])\n",
    "```\n",
    "\n",
    "---\n",
    "\n",
    "## Assi (Axes)\n",
    "\n",
    "* Gli **assi** indicano le dimensioni ed sono indicizzati da 0 in su.\n",
    "\n",
    "  * In un array 2D, `axis=0` è l’asse verticale (righe), `axis=1` quello orizzontale (colonne).\n",
    "* Molte funzioni NumPy cambiano comportamento a seconda dell’argomento `axis`.\n",
    "\n",
    "**Esempio con `.max()`**\n",
    "\n",
    "```python\n",
    "import numpy as np\n",
    "\n",
    "table = np.array([\n",
    "    [5, 3, 7, 1],\n",
    "    [2, 6, 7, 9],\n",
    "    [1, 1, 1, 1],\n",
    "    [4, 3, 2, 0],\n",
    "])\n",
    "\n",
    "# Massimo sull’intero array\n",
    "print(table.max())        # 9\n",
    "\n",
    "# Massimo per ciascuna colonna (asse 0)\n",
    "print(table.max(axis=0))  # array([5, 6, 7, 9])\n",
    "\n",
    "# Massimo per ciascuna riga (asse 1)\n",
    "print(table.max(axis=1))  # array([7, 9, 1, 4])\n",
    "```\n",
    "\n",
    "* **Senza `axis`** → funzione su tutti i valori.\n",
    "* **Con `axis=k`** → operazione lungo l’asse k, restituisce un array con dimensione ridotta di 1.\n",
    "\n",
    "---\n",
    "\n",
    "## Broadcasting\n",
    "\n",
    "La regola fondamentale:\n",
    "\n",
    "> Due array possono “broadcastarsi” se, per ogni asse, o hanno la stessa lunghezza, oppure almeno uno dei due è pari a 1.\n",
    "\n",
    "* Se in un asse una dimensione vale 1, NumPy **duplica** quel dato lungo quell’asse.\n",
    "* Se le dimensioni coincidono, operazione elemento-per-elemento.\n",
    "\n",
    "**Esempio formale:**\n",
    "\n",
    "* `A.shape = (4, 1, 8)`\n",
    "* `B.shape = (1, 6, 8)`\n",
    "\n",
    "| Asse   | A | B | Azione                 |\n",
    "| ------ | - | - | ---------------------- |\n",
    "| asse 0 | 4 | 1 | B duplicato 4 volte    |\n",
    "| asse 1 | 1 | 6 | A duplicato 6 volte    |\n",
    "| asse 2 | 8 | 8 | dimensioni uguali → OK |\n",
    "\n",
    "**Creazione degli array**\n",
    "\n",
    "```python\n",
    "A = np.arange(32).reshape(4, 1, 8)\n",
    "B = np.arange(48).reshape(1, 6, 8)\n",
    "```\n",
    "\n",
    "**Somma con broadcasting**\n",
    "\n",
    "```python\n",
    "C = A + B\n",
    "print(C)\n",
    "# Output:\n",
    "# array([[[ 0,  2,  4,  6,  8, 10, 12, 14],\n",
    "#         [ 8, 10, 12, 14, 16, 18, 20, 22],\n",
    "#         [16, 18, 20, 22, 24, 26, 28, 30],\n",
    "#         [24, 26, 28, 30, 32, 34, 36, 38],\n",
    "#         [32, 34, 36, 38, 40, 42, 44, 46],\n",
    "#         [40, 42, 44, 46, 48, 50, 52, 54]],\n",
    "#\n",
    "#        [[ 8, 10, 12, 14, 16, 18, 20, 22],\n",
    "#         ...\n",
    "#        ],\n",
    "#        ...\n",
    "# ])\n",
    "```\n",
    "\n",
    "* NumPy estende internamente A e B alle stesse dimensioni 4×6×8, poi somma elemento per elemento.\n",
    "\n",
    "---\n",
    "\n",
    "### Conclusione\n",
    "\n",
    "* **Shape** e **axes** sono la base per navigare array multidimensionali.\n",
    "* Controlla sempre `.shape` e, quando serve, usa `.swapaxes()` o funzioni con `axis=`.\n",
    "* Comprendere il **broadcasting** permette di scrivere calcoli vettoriali puliti e veloci, evitando loop espliciti.\n"
   ]
  }
 ],
 "metadata": {
  "kernelspec": {
   "display_name": ".venv",
   "language": "python",
   "name": "python3"
  },
  "language_info": {
   "codemirror_mode": {
    "name": "ipython",
    "version": 3
   },
   "file_extension": ".py",
   "mimetype": "text/x-python",
   "name": "python",
   "nbconvert_exporter": "python",
   "pygments_lexer": "ipython3",
   "version": "3.12.3"
  }
 },
 "nbformat": 4,
 "nbformat_minor": 5
}
