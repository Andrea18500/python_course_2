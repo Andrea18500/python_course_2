{
 "cells": [
  {
   "cell_type": "markdown",
   "id": "d0f4ec7e",
   "metadata": {},
   "source": [
    "| Classe                 | Attributi obbligatori                                                                     | Metodi minimi                                          |\n",
    "| ---------------------- | ----------------------------------------------------------------------------------------- | ------------------------------------------------------ |\n",
    "| **Persona**            | `nome`, `cognome`, `codice` (id univoco)                                  | `stampa_persona()`       |\n",
    "| **Esame**              | `nome`, `crediti`, `voto` (0‑30)                                                          | `stampa_esame()`         |\n",
    "| **Studente (Persona)** | **tutti** quelli di `Persona` + `corso_di_studi`, `matricola`, `esami` (lista di `Esame`) | `aggiungi_esame(ex)`, `media_ponderata()` |\n"
   ]
  },
  {
   "cell_type": "markdown",
   "id": "f58479d2",
   "metadata": {},
   "source": [
    ".\n",
    ".\n",
    ".\n",
    ".\n",
    ".\n",
    ".\n",
    ".\n",
    ".\n",
    ".\n",
    ".\n",
    "."
   ]
  },
  {
   "cell_type": "markdown",
   "id": "634a5750",
   "metadata": {},
   "source": [
    "# Pandas 🐼🐼🐼"
   ]
  },
  {
   "cell_type": "markdown",
   "id": "4d5371ce",
   "metadata": {},
   "source": [
    "### Miglior strumento di data wrangling\n",
    "\n",
    "Pandas è ideale per il data wrangling, ovvero il processo di trasformazione e pulizia dei dati grezzi per analisi e modelli, mentre NumPy eccelle nei calcoli intensivi una volta che il dataset è pronto."
   ]
  },
  {
   "cell_type": "markdown",
   "id": "308c465a",
   "metadata": {},
   "source": [
    "| Esigenza tipica                                                  | Funzionalità Pandas                     | Quando serve                                                                |\n",
    "| ---------------------------------------------------------------- | --------------------------------------- | --------------------------------------------------------------------------- |\n",
    "| 1. **Importare** formati eterogenei (CSV, Excel, TSV, JSON, SQL) | `read_*()`                              | Ogni volta che i dati provengono da laboratori, EHR, registry o altri dispositivi |\n",
    "| 2. **Pulire** dati sporchi o parziali                            | `dropna`, `fillna`, `astype`, `replace` | Prima di qualsiasi statistica o di usarli per Machine Learning                                          |\n",
    "| 3. **Ristrutturare** il dataset (modificarne la struttura per facilitarne l’analisi o per adattarlo a specifiche esigenze)                                  | `melt`, `pivot`, `stack/unstack`        | Per allineare o sistemare misure longitudinali, matrici di espressione...                 |\n",
    "| 4. **Filtrare & creare sottogruppi**                                    | Boolean indexing, `query`, `groupby`    | Focus su un fenotipo, un trattamento, un gene...                               |\n",
    "| 5. **Aggregare & statistiche rapide**                            | `groupby().agg()`, `describe`           | Report clinici, cruscotti QC (Quality Control)...                                                |\n",
    "| 6. **Merge/Join** di più fonti                                   | `merge`, `concat`                       | Integrare imaging + clinica + omics (Dati omici → Genomica, trascrittomica, proteomica, metabolomica)                                         |\n",
    "| 7. **Time series per il monitoraggio continuo**                                               | `to_datetime`, `resample`, `rolling`    | Wearable, follow-up, Analisi di segnali continui in terapia intensiva (ICU waveform analysis)...                                           |\n"
   ]
  },
  {
   "cell_type": "markdown",
   "id": "308c465a",
   "metadata": {},
   "source": [
    "### Perché non basta usare liste Python o array NumPy al posto di Pandas?"
   ]
  },
  {
   "cell_type": "markdown",
   "id": "c35f5f71",
   "metadata": {},
   "source": [
    "| Esigenza tipica nei dati biomedici                     | Liste Python                                | NumPy array                                           | Pandas DataFrame                                |\n",
    "| ------------------------------------------------------ | ------------------------------------------- | ----------------------------------------------------- | ----------------------------------------------- |\n",
    "| **Etichette (ID paziente, nome gene, tempo)**          | ❌ gestite “a mano” con strutture ausiliarie | ❌ non esistono; solo indici interi                    | ✅ `index`, `columns`, gerarchici (`MultiIndex`) |\n",
    "| **Gestire dati eterogenei** (numeri + stringhe + date)         | ✅ ma zero funzioni vettoriali               | ⚠️ possibile con `dtype=object`, ma perde in performance | ✅ colonne con tipi diversi, ottimizzate         |\n",
    "| **Valori mancanti** (`NaN`, `None`, sentinel)          | ❌ serve logica ad-hoc                       | ⚠️ `np.nan` solo per float; complicato per tipi misti | ✅ `isna` per identificare valori mancanti, `fillna`per riempire valori mancanti, propagazione coerente per propagare il valore precedente o successivo nelle celle vuote.       |\n",
    "| **Operazioni “SQL-like”** (`groupby`, `join`, `pivot`) | ❌ codice manuale e ciclo esplicito          | ❌ non previste                                        | ✅ una riga di codice idiomatica (ovvero con funzioni intuitive e efficienti)                |\n",
    "| **Time series**             | ❌ da implementare                           | ⚠️ serve `np.searchsorted`/for loop                   | ✅ API dedicate (`resample` per aggregazione a intervalli temporali, `rolling` per applicare operazioni statistiche su una finestra mobile di dati, `shift` per confrontare valori tra istanti di tempo diversi) |\n",
    "| **I/O (input/output) nativo** (CSV, Excel, SQL, Parquet)              | ❌ librerie esterne, parsing manuale         | ❌ idem                                                | ✅ `read_*`, `to_*` tutte funzioni one-liner                    |\n",
    "| **Leggibilità notebook/paper**                         | 😐 spesso 3-4 strutture parallele           | 😐 array senza intestazioni esplicite                             | 😀 tabelle auto-formattate                      |\n"
   ]
  },
  {
   "cell_type": "markdown",
   "id": "f9cf36aa",
   "metadata": {},
   "source": [
    "### 🏥 1 | Analisi di dataset clinici multifattoriali\n",
    "(= studiare dati sanitari considerando più variabili contemporaneamente, come età, sesso, genetica, stile di vita, parametri fisiologici ...)\n",
    "\n",
    "Scenario:\n",
    "Analisi di parametri clinici di pazienti con diverse diagnosi per identificare correlazioni e pattern significativi."
   ]
  },
  {
   "cell_type": "markdown",
   "id": "2c8f6b84",
   "metadata": {},
   "source": [
    "## Preparazione dei file di dati\n",
    "Creiamo un file CSV e un file Excel con un piccolo dataset di esempio. In questo modo, potremo esercitarci con la lettura e la manipolazione dei dati."
   ]
  },
  {
   "cell_type": "code",
   "execution_count": 19,
   "id": "5640172f",
   "metadata": {},
   "outputs": [
    {
     "name": "stdout",
     "output_type": "stream",
     "text": [
      "File creati: files/pazienti_demo.csv e files/pazienti_demo.xlsx\n"
     ]
    }
   ],
   "source": [
    "import pandas as pd\n",
    "\n",
    "# Dati di esempio\n",
    "data = {\n",
    "    'paziente_id': [1, 2, 3, 4, 5],\n",
    "    'età': [45, 52, 67, 38, 71],\n",
    "    'glicemia': [95, 105, 142, 88, 170]\n",
    "}\n",
    "df_demo = pd.DataFrame(data)\n",
    "\n",
    "# Salvataggio in CSV e Excel\n",
    "df_demo.to_csv('files/pazienti_demo.csv', index=False)\n",
    "df_demo.to_excel('files/pazienti_demo.xlsx', index=False)\n",
    "\n",
    "print('File creati: files/pazienti_demo.csv e files/pazienti_demo.xlsx')"
   ]
  },
  {
   "cell_type": "markdown",
   "id": "1055adc2",
   "metadata": {},
   "source": [
    "## Esempio\n",
    "\n",
    "1. Carichiamo il file CSV appena creato\n",
    "2. Visualizziamo le prime righe\n",
    "3. Calcoliamo statistiche di base\n",
    "4. Filtriamo i pazienti con glicemia alta"
   ]
  },
  {
   "cell_type": "code",
   "execution_count": 20,
   "id": "e493a943",
   "metadata": {},
   "outputs": [
    {
     "name": "stdout",
     "output_type": "stream",
     "text": [
      "   paziente_id  età  glicemia\n",
      "0            1   45        95\n",
      "1            2   52       105\n",
      "2            3   67       142\n",
      "3            4   38        88\n",
      "4            5   71       170\n",
      "       paziente_id        età    glicemia\n",
      "count     5.000000   5.000000    5.000000\n",
      "mean      3.000000  54.600000  120.000000\n",
      "std       1.581139  14.117365   34.849677\n",
      "min       1.000000  38.000000   88.000000\n",
      "25%       2.000000  45.000000   95.000000\n",
      "50%       3.000000  52.000000  105.000000\n",
      "75%       4.000000  67.000000  142.000000\n",
      "max       5.000000  71.000000  170.000000\n",
      "Pazienti con glicemia > 100:\n",
      "   paziente_id  età  glicemia\n",
      "1            2   52       105\n",
      "2            3   67       142\n",
      "4            5   71       170\n"
     ]
    }
   ],
   "source": [
    "import pandas as pd\n",
    "\n",
    "# 1. Carichiamo i dati\n",
    "df = pd.read_csv('files/pazienti_demo.csv')\n",
    "\n",
    "# 2. Visualizziamo le prime righe\n",
    "print(df.head())\n",
    "\n",
    "# 3. Statistiche di base\n",
    "print(df.describe())\n",
    "\n",
    "# 4. Filtraggio\n",
    "df_alta = df[df['glicemia'] > 100]\n",
    "print('Pazienti con glicemia > 100:')\n",
    "print(df_alta)"
   ]
  },
  {
   "cell_type": "markdown",
   "id": "e2ea6a70",
   "metadata": {},
   "source": [
    "Utilità:\n",
    "- Pulizia nomenclatura diagnosi\n",
    "- Statistiche descrittive per reparto\n",
    "- Individuazione outlier (df[df[\"HbA1c\"]>12])\n",
    "- Esportazione rapida in Excel per il board clinico (stats.to_excel(\"summary.xlsx\"))\n",
    "\n",
    "{Tabella heat-map dei valori medi di HbA1c per diagnosi}"
   ]
  },
  {
   "cell_type": "markdown",
   "id": "41bba496",
   "metadata": {},
   "source": [
    "## Appunto sui file\n",
    "###Cosa sono\n",
    "\n",
    "Pandas eccelle nella gestione di file di dati, che è uno dei suoi punti di forza principali. Questo codice include:\n",
    "- Lettura e scrittura di diversi formati file: CSV, Excel, TSV, JSON, SQL\n",
    "- Opzioni di lettura avanzate: gestione separatori, encoding, intestazioni personalizzate, - - gestione dei valori mancanti\n",
    "\n",
    "Un file è un contenitore di dati salvati su disco (es. CSV, TXT, Excel, immagini, audio...)\n",
    "Python può aprire, leggere, modificare e salvare file, come se li “sfogliasse riga per riga” o li caricassi in memoria come tabelle.\n",
    ".\n",
    "\n",
    "### Modi principali per lavorare con file in Python\n",
    "1.File di testo (.txt, .csv, .tsv, .json, .log)"
   ]
  },
  {
   "cell_type": "code",
   "execution_count": 2,
   "id": "bb1c9870",
   "metadata": {},
   "outputs": [],
   "source": [
    "with open(\"files/data.txt\", \"r\") as f:\n",
    "    contenuto = f.read()         # Legge tutto il file come stringa"
   ]
  },
  {
   "cell_type": "markdown",
   "id": "c35f92e7",
   "metadata": {},
   "source": [
    "2. File strutturati come tabelle (CSV, Excel, TSV)\n",
    "Qui entra in gioco Pandas, che ti fa risparmiare ore:"
   ]
  },
  {
   "cell_type": "code",
   "execution_count": null,
   "id": "27b248a5",
   "metadata": {},
   "outputs": [],
   "source": [
    "import pandas as pd\n",
    "\n",
    "df = pd.read_csv(\"pazienti.csv\")         # CSV = valori separati da virgole\n",
    "df = pd.read_excel(\"analisi.xlsx\")       # Legge un file Excel\n",
    "df = pd.read_json(\"dati.json\")           # Legge un file JSON"
   ]
  },
  {
   "cell_type": "markdown",
   "id": "d77a0b4e",
   "metadata": {},
   "source": [
    "Pandas riconosce automaticamente il formato dei dati, crea una tabella (DataFrame) e assegna intestazioni e indici.\n",
    "\n",
    "### Come si integrano i file con le librerie scientifiche\n",
    "| Obiettivo                | Funzione Python/Pandas            |\n",
    "| ------------------------ | --------------------------------- |\n",
    "| Leggere un file          | `open()`, `pd.read_csv()`, ecc.   |\n",
    "| Scrivere su file         | `write()`, `df.to_csv()`          |\n",
    "| Elaborare i dati         | Manipolazione tramite Pandas      |\n",
    "| Lavorare con file grandi | `chunksize`, `Parquet`, `feather` |\n",
    "\n",
    "Esempio:"
   ]
  },
  {
   "cell_type": "code",
   "execution_count": null,
   "id": "818508a0",
   "metadata": {},
   "outputs": [],
   "source": [
    "df = pd.read_csv(\"espressione_genica.tsv\", sep=\"\\t\")  # leggo da file\n",
    "df.to_csv(\"risultati_filtrati.csv\")                   # salvo su file"
   ]
  },
  {
   "cell_type": "markdown",
   "id": "6e59cdc2",
   "metadata": {},
   "source": [
    "### Studi di Coorte Longitudinali\n",
    "Scenario:\n",
    "Analisi longitudinale di pazienti in uno studio clinico per valutare l'efficacia di diversi trattamenti nel tempo."
   ]
  },
  {
   "cell_type": "code",
   "execution_count": 34,
   "id": "4c9ec7b1",
   "metadata": {},
   "outputs": [
    {
     "data": {
      "text/html": [
       "<div>\n",
       "<style scoped>\n",
       "    .dataframe tbody tr th:only-of-type {\n",
       "        vertical-align: middle;\n",
       "    }\n",
       "\n",
       "    .dataframe tbody tr th {\n",
       "        vertical-align: top;\n",
       "    }\n",
       "\n",
       "    .dataframe thead th {\n",
       "        text-align: right;\n",
       "    }\n",
       "</style>\n",
       "<table border=\"1\" class=\"dataframe\">\n",
       "  <thead>\n",
       "    <tr style=\"text-align: right;\">\n",
       "      <th></th>\n",
       "      <th>patient_id</th>\n",
       "      <th>baseline_score</th>\n",
       "      <th>visit_month</th>\n",
       "      <th>score</th>\n",
       "      <th>delta_score</th>\n",
       "    </tr>\n",
       "  </thead>\n",
       "  <tbody>\n",
       "    <tr>\n",
       "      <th>0</th>\n",
       "      <td>1</td>\n",
       "      <td>50</td>\n",
       "      <td>3</td>\n",
       "      <td>42</td>\n",
       "      <td>-8</td>\n",
       "    </tr>\n",
       "    <tr>\n",
       "      <th>1</th>\n",
       "      <td>2</td>\n",
       "      <td>55</td>\n",
       "      <td>3</td>\n",
       "      <td>56</td>\n",
       "      <td>1</td>\n",
       "    </tr>\n",
       "    <tr>\n",
       "      <th>2</th>\n",
       "      <td>3</td>\n",
       "      <td>65</td>\n",
       "      <td>3</td>\n",
       "      <td>44</td>\n",
       "      <td>-21</td>\n",
       "    </tr>\n",
       "  </tbody>\n",
       "</table>\n",
       "</div>"
      ],
      "text/plain": [
       "   patient_id  baseline_score  visit_month  score  delta_score\n",
       "0           1              50            3     42           -8\n",
       "1           2              55            3     56            1\n",
       "2           3              65            3     44          -21"
      ]
     },
     "execution_count": 34,
     "metadata": {},
     "output_type": "execute_result"
    }
   ],
   "source": [
    "# Esempio semplificato di studio di coorte longitudinale\n",
    "import pandas as pd\n",
    "\n",
    "# Dati di base (baseline)\n",
    "baseline = pd.read_csv('files/coorte_baseline.csv')\n",
    "# ID pazienti\n",
    "# punteggi iniziali\n",
    "\n",
    "# Dati di follow-up a 3 mesi\n",
    "followup = pd.read_csv(\"files/coorte_followup.csv\")\n",
    "# mese di follow-up\n",
    "# punteggi a 3 mesi\n",
    "\n",
    "\n",
    "# Unione dei DataFrame con join esplicito\n",
    "df = baseline.merge(followup, on='patient_id')  # merge basato su patient_id\n",
    "\n",
    "# Calcolo della variazione del punteggio\n",
    "# delta = score follow-up - punteggio baseline\n",
    "df['delta_score'] = df['score'] - df['baseline_score']\n",
    "\n",
    "# Visualizza il risultato finale\n",
    "df"
   ]
  },
  {
   "cell_type": "markdown",
   "id": "d7673236",
   "metadata": {},
   "source": [
    "Utilità:\n",
    "- Ordinamento e calcolo di intervalli temporali\n",
    "- Analisi per paziente o sottogruppo\n",
    "- Calcolo della progressione (delta valori nel tempo)\n",
    "\n",
    "{Grafico temporale con andamento di biomarcatori in un paziente nel tempo}"
   ]
  },
  {
   "cell_type": "markdown",
   "id": "38490599",
   "metadata": {},
   "source": [
    "# Numpy\n",
    "\n",
    "NumPy è una libreria Python che fornisce una struttura dati semplice ma potente: l'array n-dimensionale.\n",
    "\n",
    "**Perché scegliere NumPy**\n",
    "Pur conoscendo già Python “puro” (con i suoi cicli `for`, la lettura/scrittura di CSV, ecc.), NumPy introduce un paradigma che offre vantaggi concreti:\n",
    "\n",
    "1. **Maggiore velocità**\n",
    "\n",
    "   * NumPy utilizza algoritmi implementati in C, che eseguono operazioni in nanosecondi anziché in secondi.\n",
    "2. **Riduzione dei cicli**\n",
    "\n",
    "   * Grazie alle strutture array, è possibile comporre operazioni vettoriali che eliminano gran parte dei loop manuali e l’indice di iterazione.\n",
    "3. **Codice più leggibile**\n",
    "\n",
    "   * Senza cicli annidati, le espressioni nel codice assomigliano molto di più alle equazioni matematiche che si vogliono calcolare.\n",
    "4. **Alta qualità e affidabilità**\n",
    "\n",
    "   * Un’ampia comunità di sviluppatori mantiene NumPy veloce, di facile utilizzo e privo di bug.\n",
    "\n",
    "**Conclusione**\n",
    "Questi fattori hanno reso NumPy lo standard “de facto” per gli array multidimensionali in Python applicato alla data science. Molte librerie popolari si basano su NumPy: impararlo fornisce una solida base su cui poi sviluppare competenze più avanzate in ambiti specifici.\n"
   ]
  },
  {
   "cell_type": "code",
   "execution_count": 4,
   "id": "56b1f7e0",
   "metadata": {
    "vscode": {
     "languageId": "shellscript"
    }
   },
   "outputs": [
    {
     "name": "stdout",
     "output_type": "stream",
     "text": [
      "Requirement already satisfied: numpy in ./.venv/lib/python3.12/site-packages (2.2.5)\n"
     ]
    }
   ],
   "source": [
    "%%bash\n",
    "# attiviamo l'ambiente virutale\n",
    ". .venv/bin/activate\n",
    "# Installiamo numpy\n",
    "pip install numpy"
   ]
  },
  {
   "cell_type": "code",
   "execution_count": 5,
   "id": "caa2cd4b",
   "metadata": {},
   "outputs": [
    {
     "name": "stdout",
     "output_type": "stream",
     "text": [
      "[72 35 64 88 51 90 74 12]\n",
      "[72, 35, 64, 88, 51, 90, 74, 12]\n"
     ]
    }
   ],
   "source": [
    "import numpy as np\n",
    "\n",
    "CURVE_CENTER = 80 # Sintassi standard per le costanti\n",
    "grades = np.array([72, 35, 64, 88, 51, 90, 74, 12])\n",
    "grades_list = [72, 35, 64, 88, 51, 90, 74, 12]\n",
    "\n",
    "print(grades)\n",
    "print(grades_list)"
   ]
  },
  {
   "cell_type": "code",
   "execution_count": 13,
   "id": "8333435b",
   "metadata": {},
   "outputs": [
    {
     "name": "stdout",
     "output_type": "stream",
     "text": [
      "<class 'numpy.ndarray'>\n",
      "<class 'list'>\n",
      "int64\n"
     ]
    }
   ],
   "source": [
    "print(type(grades))\n",
    "print(type(grades_list))\n",
    "print(grades.dtype)\n",
    "# print(grades_list.dtype) <- dtype fa parte di numpy, questo è sbagliato!"
   ]
  },
  {
   "cell_type": "code",
   "execution_count": 7,
   "id": "c039cf47",
   "metadata": {},
   "outputs": [
    {
     "data": {
      "text/plain": [
       "array([ 91.25,  54.25,  83.25, 100.  ,  70.25, 100.  ,  93.25,  31.25])"
      ]
     },
     "execution_count": 7,
     "metadata": {},
     "output_type": "execute_result"
    }
   ],
   "source": [
    "def curve(grades):\n",
    "     average = grades.mean()\n",
    "     change = CURVE_CENTER - average\n",
    "     new_grades = grades + change\n",
    "     return np.clip(new_grades, grades, 100)\n",
    "\n",
    "curve(grades)"
   ]
  },
  {
   "cell_type": "markdown",
   "id": "8cee3527",
   "metadata": {},
   "source": [
    "1. **Importazione di NumPy**\n",
    "   Alla riga 1 si importa la libreria NumPy con l’alias `np`, una convenzione che abbrevia i comandi successivi.\n",
    "\n",
    "2. **Creazione dell’array**\n",
    "   Alla riga 3 si definisce un array monodimensionale chiamato `grades` di lunghezza 8 e tipo `int64`. In seguito esplorerai forma e tipo dei dati più a fondo, ma per ora basti sapere che hai un vettore di 8 valori interi.\n",
    "\n",
    "3. **Calcolo della media**\n",
    "   Alla riga 5 si richiama il metodo `.mean()` sull’array: in un solo passaggio NumPy somma tutti gli elementi e ne restituisce la media. Gli array di NumPy dispongono di numerosi metodi analoghi per operazioni statistiche o matematiche.\n",
    "\n",
    "4. **Vectorization e Broadcasting**\n",
    "   Alla riga 7 si sfruttano due concetti chiave:\n",
    "\n",
    "   * **Vectorization**: l’operazione (es. somma di uno stesso valore) viene applicata simultaneamente a tutti gli elementi dell’array, eliminando la necessità di cicli espliciti.\n",
    "   * **Broadcasting**: NumPy “allinea” array di forme diverse per permettere calcoli vettoriali fra loro. Qui `grades` è un array shape `(8,)` e `change` è uno scalare shape `(1,)`; NumPy aggiunge automaticamente `change` a ciascun elemento di `grades`. Non avrebbe funzionato se grades fosse stata una lista!\n",
    "\n",
    "5. **Clipping dei valori**\n",
    "   Alla riga 8 si utilizza la funzione `np.clip()`, che garantisce che i voti “curve‑dati” non scendano sotto un minimo né superino un massimo.\n",
    "\n",
    "   * Il secondo argomento di `clip()` è proprio l’array originale `grades`: così ogni voto corretto non scende mai al di sotto del suo valore iniziale.\n",
    "   * Il terzo argomento è lo scalare `100`, che tramite broadcasting assicura che nessun voto ecceda il 100%.\n",
    "\n",
    "> **Consiglio**: NumPy mette a disposizione decine di funzioni e metodi specializzati. Se ti sembra di ripetere operazioni comuni o di dover scrivere cicli, consulta la documentazione: molto probabilmente esiste già una routine adatta.\n"
   ]
  },
  {
   "cell_type": "code",
   "execution_count": null,
   "id": "b845b4b9",
   "metadata": {
    "vscode": {
     "languageId": "shellscript"
    }
   },
   "outputs": [],
   "source": [
    "%%bash\n",
    "# installiamo matplotlib\n",
    "pip install numpy matplotlib"
   ]
  },
  {
   "cell_type": "markdown",
   "id": "79838613",
   "metadata": {},
   "source": [
    "## Forme degli array (Shape)\n",
    "\n",
    "* **Shape** è la tupla che descrive la dimensione di ciascun asse di un array.\n",
    "* Ogni array NumPy espone la proprietà `.shape`, che restituisce tale tupla.\n",
    "* È fondamentale che gli array abbiano la forma che le funzioni si aspettano: un controllo rapido è stampare l’array insieme a `array.shape`.\n",
    "\n",
    "**Esempio: creazione e verifica di un array 3D 2×2×3**"
   ]
  },
  {
   "cell_type": "code",
   "execution_count": 16,
   "id": "ee7c8d29",
   "metadata": {},
   "outputs": [
    {
     "name": "stdout",
     "output_type": "stream",
     "text": [
      "(2, 2, 3)\n",
      "[[[29.3 42.1 18.8]\n",
      "  [16.1 38.  12.5]]\n",
      "\n",
      " [[12.6 49.9 38.6]\n",
      "  [31.3  9.2 22.2]]]\n"
     ]
    }
   ],
   "source": [
    "import numpy as np\n",
    "\n",
    "# Creo un vettore di 12 temperature e lo rimodello in un blocco 2×2×3\n",
    "temperatures = np.array([\n",
    "    29.3, 42.1, 18.8, 16.1, 38.0, 12.5,\n",
    "    12.6, 49.9, 38.6, 31.3,  9.2, 22.2\n",
    "]).reshape(2, 2, 3)\n",
    "# Verifico la shape\n",
    "print(temperatures.shape)\n",
    "\n",
    "# Visualizzo l’array\n",
    "print(temperatures)"
   ]
  },
  {
   "cell_type": "code",
   "execution_count": 15,
   "id": "d7be6ac2",
   "metadata": {},
   "outputs": [
    {
     "data": {
      "text/plain": [
       "np.float64(22.2)"
      ]
     },
     "execution_count": 15,
     "metadata": {},
     "output_type": "execute_result"
    }
   ],
   "source": [
    "# Supponiamo di voler selezionare la temperatura 22.2\n",
    "temperature = temperatures[1, 1, 2]\n",
    "# [\"tabella\", \"riga\", \"colonn\"]\n",
    "temperature"
   ]
  },
  {
   "cell_type": "markdown",
   "id": "aca7b113",
   "metadata": {},
   "source": [
    "* Con tre o più dimensioni diventa difficile “vedere” i dati; per questo è utile\n",
    "\n",
    "  * ribaltare (“swap”) assi con `.swapaxes()`\n",
    "  * stampare shape e contenuto finché non si è certi della disposizione.\n",
    "\n",
    "**Esempio: scambiare l’asse 1 con l’asse 2**"
   ]
  },
  {
   "cell_type": "code",
   "execution_count": null,
   "id": "0912b71c",
   "metadata": {
    "vscode": {
     "languageId": "shellscript"
    }
   },
   "outputs": [],
   "source": [
    "reordered = np.swapaxes(temperatures, 1, 2)\n",
    "print(reordered)"
   ]
  },
  {
   "cell_type": "markdown",
   "id": "b21a6acf",
   "metadata": {},
   "source": [
    "## Assi (Axes)\n",
    "\n",
    "* Gli **assi** indicano le dimensioni ed sono indicizzati da 0 in su.\n",
    "\n",
    "  * In un array 2D, `axis=0` è l’asse verticale (righe), `axis=1` quello orizzontale (colonne).\n",
    "* Molte funzioni NumPy cambiano comportamento a seconda dell’argomento `axis`.\n",
    "\n",
    "**Esempio con `.max()`**"
   ]
  },
  {
   "cell_type": "code",
   "execution_count": null,
   "id": "cdfc883c",
   "metadata": {
    "vscode": {
     "languageId": "shellscript"
    }
   },
   "outputs": [],
   "source": [
    "import numpy as np\n",
    "\n",
    "table = np.array([\n",
    "    [5, 3, 7, 1],\n",
    "    [2, 6, 7, 9],\n",
    "    [1, 1, 1, 1],\n",
    "    [4, 3, 2, 0],\n",
    "])\n",
    "\n",
    "# Massimo sull’intero array\n",
    "print(table.max())        # 9\n",
    "\n",
    "# Massimo per ciascuna colonna (asse 0)\n",
    "print(table.max(axis=0))  # array([5, 6, 7, 9])\n",
    "\n",
    "# Massimo per ciascuna riga (asse 1)\n",
    "print(table.max(axis=1))  # array([7, 9, 1, 4])"
   ]
  },
  {
   "cell_type": "markdown",
   "id": "b57d3361",
   "metadata": {},
   "source": [
    "* **Senza `axis`** → funzione su tutti i valori.\n",
    "* **Con `axis=k`** → operazione lungo l’asse k, restituisce un array con dimensione ridotta di 1.\n",
    "\n",
    "---\n",
    "\n",
    "## Broadcasting\n",
    "\n",
    "La regola fondamentale:\n",
    "\n",
    "> Due array possono “broadcastarsi” se, per ogni asse, o hanno la stessa lunghezza, oppure almeno uno dei due è pari a 1.\n",
    "\n",
    "* Se in un asse una dimensione vale 1, NumPy **duplica** quel dato lungo quell’asse.\n",
    "* Se le dimensioni coincidono, operazione elemento-per-elemento.\n",
    "\n",
    "**Esempio formale:**\n",
    "\n",
    "* `A.shape = (4, 1, 8)`\n",
    "* `B.shape = (1, 6, 8)`\n",
    "\n",
    "| Asse   | A | B | Azione                 |\n",
    "| ------ | - | - | ---------------------- |\n",
    "| asse 0 | 4 | 1 | B duplicato 4 volte    |\n",
    "| asse 1 | 1 | 6 | A duplicato 6 volte    |\n",
    "| asse 2 | 8 | 8 | dimensioni uguali → OK |\n",
    "\n",
    "**Creazione degli array**"
   ]
  },
  {
   "cell_type": "markdown",
   "id": "e083174f",
   "metadata": {},
   "source": [
    "In NumPy, il **broadcasting** è un meccanismo che permette di eseguire operazioni aritmetiche tra array di forma diversa, “allineando” automaticamente le dimensioni più piccole a quelle maggiori senza copiare fisicamente i dati. In pratica, NumPy “espande” (broadcast) l’array di dimensione inferiore lungo le dimensioni mancanti o di lunghezza 1, così da poter applicare l’operazione elemento per elemento.\n",
    "\n",
    "---\n",
    "\n",
    "## 1. Perché serve il broadcasting?\n",
    "\n",
    "Senza broadcasting, se volessi sommare un array 1-D di forma `(3,)` a un array 2-D di forma `(2,3)`, dovresti prima replicare il vettore in righe o colonne per avere due righe identiche, fare il sum, e poi (eventualmente) liberarti delle copie. Broadcasting ti risparmia sia la scrittura di questo codice sia l’allocazione di memoria aggiuntiva.\n",
    "\n",
    "---\n",
    "\n",
    "## 2. Regole di broadcasting\n",
    "\n",
    "Quando cerchi di combinare due array `A` e `B`, NumPy confronta le loro forme (shape) dimensione per dimensione, partendo dall’ultima (i.e. righe vs righe, colonne vs colonne, e così via verso sinistra):\n",
    "\n",
    "1. **Allineamento delle dimensioni**\n",
    "\n",
    "   * Se le forme hanno lunghezze diverse, vengono “allineate” a destra aggiungendo virtualmente dimensioni di lunghezza 1 a sinistra dell’array più corto.\n",
    "   * Es.:\n",
    "\n",
    "     * `shape A = (2, 3)`\n",
    "     * `shape B =     (3,)`\n",
    "       → NumPy interpreta `B` come `(1, 3)`.\n",
    "\n",
    "2. **Compatibilità lungo ogni dimensione**\n",
    "   Per ciascuna coppia di dimensioni (ora allineate):\n",
    "\n",
    "   * Sono compatibili se sono uguali, oppure\n",
    "   * Se una delle due è 1.\n",
    "\n",
    "3. **Espansione virtuale**\n",
    "   Quando una dimensione di un array è 1 (o era “in più” a sinistra), NumPy la “espande” ripetendo il contenuto lungo quella dimensione senza allocare nuovamente i dati.\n",
    "\n",
    "Se queste regole non sono soddisfatte, NumPy alza un errore di shape mismatch.\n",
    "\n",
    "---\n",
    "\n",
    "## 3. Esempi pratici\n",
    "\n",
    "### 3.1 Vettore + Matrice"
   ]
  },
  {
   "cell_type": "code",
   "execution_count": 39,
   "id": "e6933e62",
   "metadata": {
    "vscode": {
     "languageId": "shellscript"
    }
   },
   "outputs": [
    {
     "data": {
      "text/plain": [
       "array([[11, 22, 33],\n",
       "       [14, 25, 36]])"
      ]
     },
     "execution_count": 39,
     "metadata": {},
     "output_type": "execute_result"
    }
   ],
   "source": [
    "import numpy as np\n",
    "\n",
    "A = np.array([[1, 2, 3],\n",
    "              [4, 5, 6]])     # shape (2,3)\n",
    "B = np.array([10, 20, 30])    # shape (3,)\n",
    "\n",
    "# Broadcasting: B interpretato come (1,3), poi espanso a (2,3)\n",
    "C = A + B\n",
    "C"
   ]
  },
  {
   "cell_type": "markdown",
   "id": "8042b3bb",
   "metadata": {},
   "source": [
    "### 3.2 Matrice + colonna costante"
   ]
  },
  {
   "cell_type": "code",
   "execution_count": 40,
   "id": "27f5835f",
   "metadata": {
    "vscode": {
     "languageId": "shellscript"
    }
   },
   "outputs": [
    {
     "data": {
      "text/plain": [
       "array([[6., 7.],\n",
       "       [6., 7.],\n",
       "       [6., 7.]])"
      ]
     },
     "execution_count": 40,
     "metadata": {},
     "output_type": "execute_result"
    }
   ],
   "source": [
    "v = np.array([1,2])           # shape (2,)\n",
    "M = np.ones((3,2)) * 5        # shape (3,2)\n",
    "\n",
    "# v viene interpretato come (1,2) e poi espanso a (3,2)\n",
    "# oppure pensalo come aggiungere il vettore riga a ogni riga di M\n",
    "R = M + v\n",
    "R"
   ]
  },
  {
   "cell_type": "markdown",
   "id": "cf3af13e",
   "metadata": {},
   "source": [
    "### 3.3 Aggiungere uno scalare\n",
    "\n",
    "Ogni scalare è un array di shape `()`, compatibile con qualsiasi shape."
   ]
  },
  {
   "cell_type": "code",
   "execution_count": 41,
   "id": "6d1c31f5",
   "metadata": {
    "vscode": {
     "languageId": "shellscript"
    }
   },
   "outputs": [],
   "source": [
    "X = np.arange(6).reshape(2,3)\n",
    "Y = X * 2      # moltiplicazione scalare; ogni elemento di X viene raddoppiato"
   ]
  },
  {
   "cell_type": "markdown",
   "id": "2f7c4ff3",
   "metadata": {},
   "source": [
    "### 3.4 Broadcasting su più dimensioni"
   ]
  },
  {
   "cell_type": "code",
   "execution_count": 42,
   "id": "96e35e69",
   "metadata": {
    "vscode": {
     "languageId": "shellscript"
    }
   },
   "outputs": [],
   "source": [
    "# A: shape (4,3,2)\n",
    "# B: shape (   1,2) → interpretato come (1,1,2) → espanso a (4,3,2)\n",
    "A = np.zeros((4,3,2))\n",
    "B = np.array([[7,8]])       # shape (1,2)\n",
    "C = A + B                   # risultato (4,3,2), ogni “piano” A[i,j,:] + [7,8]"
   ]
  },
  {
   "cell_type": "markdown",
   "id": "4cabb2cc",
   "metadata": {},
   "source": [
    "### facendo il punto...\n",
    "\n",
    "* **Shape** e **axes** sono la base per navigare array multidimensionali.\n",
    "* Controlla sempre `.shape` e, quando serve, usa `.swapaxes()` o funzioni con `axis=`.\n",
    "* Comprendere il **broadcasting** permette di scrivere calcoli vettoriali puliti e veloci, evitando loop espliciti.\n"
   ]
  },
  {
   "cell_type": "markdown",
   "id": "5a57c85b",
   "metadata": {},
   "source": [
    "---"
   ]
  },
  {
   "cell_type": "markdown",
   "id": "8e2cccd4",
   "metadata": {},
   "source": [
    "## 1. Indicizzazione (Indexing)\n",
    "\n",
    "* **Concetti base**: indici positivi/negativi, slicing con `:`, salto di elementi con `::`.\n",
    "* **Multi-asse**: NumPy usa la virgola per separare le dimensioni in un unico indice.\n",
    "\n",
    "**Esempio: Quadrato magico di Dürer**\n",
    "Si crea un array 4×4 e si verifica che righe, colonne e quadranti sommino sempre a 34:"
   ]
  },
  {
   "cell_type": "code",
   "execution_count": null,
   "id": "4404e535",
   "metadata": {},
   "outputs": [],
   "source": [
    "import numpy as np\n",
    "\n",
    "square = np.array([\n",
    "    [16,  3,  2, 13],\n",
    "    [ 5, 10, 11,  8],\n",
    "    [ 9,  6,  7, 12],\n",
    "    [ 4, 15, 14,  1]\n",
    "])\n",
    "\n",
    "# Ricordo: In Python, assert è una forma compatta di “controllo”\n",
    "# che verifica che una certa condizione (espressione booleana) sia vera.\n",
    "# Se la condizione è falsa, il programma interrompe l’esecuzione\n",
    "# lanciando un’eccezione di tipo AssertionError, altrimenti\n",
    "# continua “silenziosamente”.\n",
    "\n",
    "# Righe e colonne\n",
    "for i in range(4):\n",
    "    assert square[:, i].sum() == 34   # colonna i\n",
    "    assert square[i, :].sum() == 34   # riga i\n",
    "\n",
    "# Quadranti 2×2\n",
    "assert square[:2, :2].sum() == 34\n",
    "assert square[2:, :2].sum() == 34\n",
    "assert square[:2, 2:].sum() == 34\n",
    "assert square[2:, 2:].sum() == 34"
   ]
  },
  {
   "cell_type": "markdown",
   "id": "74302b81",
   "metadata": {},
   "source": [
    "* **Somma globale** con `square.sum()`.\n",
    "* **Somma per asse** con `square.sum(axis=…)`.\n",
    "\n",
    "---\n",
    "\n",
    "## 2. Mascheramento e filtraggio (Masking & Filtering)\n",
    "\n",
    "* Un **mask** è un array booleano della stessa forma dei dati.\n",
    "* Selezione non sequenziale: `data[mask]` restituisce tutti gli elementi in cui il mask è `True`.\n",
    "\n",
    "**Esempio 1: Numeri divisibili per 4**"
   ]
  },
  {
   "cell_type": "code",
   "execution_count": 43,
   "id": "9b36c6a3",
   "metadata": {},
   "outputs": [
    {
     "name": "stdout",
     "output_type": "stream",
     "text": [
      "[ 8 12 16 20 24 28 32 36 40 44 48]\n"
     ]
    }
   ],
   "source": [
    "import numpy as np\n",
    "\n",
    "numbers = np.linspace(5, 50, 24, dtype=int).reshape(4, -1)\n",
    "# numbers è una matrice 4×6 di interi\n",
    "\n",
    "mask = numbers % 4 == 0        # True dove il valore è multiplo di 4\n",
    "by_four = numbers[mask]        # array monodimensionale\n",
    "\n",
    "print(by_four)"
   ]
  },
  {
   "cell_type": "markdown",
   "id": "0bdb784b",
   "metadata": {},
   "source": [
    "\n",
    "* **np.linspace**: genera n valori equispaziati.\n",
    "* **dtype=int** forza l’arrotondamento per difetto.\n",
    "* **reshape(4, -1)**: -1 calcola automaticamente la dimensione rimanente.\n",
    "\n",
    "**Esempio 2: Filtrare una distribuzione normale**"
   ]
  },
  {
   "cell_type": "code",
   "execution_count": null,
   "id": "fda81dec",
   "metadata": {},
   "outputs": [],
   "source": [
    "from numpy.random import default_rng\n",
    "\n",
    "rng    = default_rng()\n",
    "values = rng.standard_normal(10000)   # 10 000 campioni N(0,1)\n",
    "std    = values.std()                 # deviazione standard\n",
    "\n",
    "# seleziona valori in [-2σ, +2σ]\n",
    "filtered = values[(values > -2*std) & (values < 2*std)]\n",
    "\n",
    "print(filtered.size / values.size)    # ~0.9565 (95.65%)"
   ]
  },
  {
   "cell_type": "markdown",
   "id": "cdcca988",
   "metadata": {},
   "source": [
    "\n",
    "\n",
    "* **Operatore `&`**: combina maschere in modo vettoriale.\n",
    "\n",
    "---\n",
    "\n",
    "## 3. Trasposizione, Ordinamento e Concatenazione\n",
    "\n",
    "### Trasposizione\n"
   ]
  },
  {
   "cell_type": "code",
   "execution_count": null,
   "id": "db24dc2a",
   "metadata": {},
   "outputs": [],
   "source": [
    "import numpy as np\n",
    "\n",
    "a = np.array([\n",
    "    [1,2],\n",
    "    [3,4],\n",
    "    [5,6],\n",
    "])\n",
    "\n",
    "print(a.T)"
   ]
  },
  {
   "cell_type": "markdown",
   "id": "a5ba2d44",
   "metadata": {},
   "source": [
    "\n",
    "* `a.T` è alias di `a.transpose()`.\n",
    "\n",
    "### Ordinamento (Sorting)"
   ]
  },
  {
   "cell_type": "code",
   "execution_count": null,
   "id": "4c616607",
   "metadata": {},
   "outputs": [],
   "source": [
    "data = np.array([\n",
    "    [7,1,4],\n",
    "    [8,6,5],\n",
    "    [1,2,3],\n",
    "])\n",
    "\n",
    "print(np.sort(data))            # per righe (asse -1)\n",
    "print(np.sort(data, axis=0))    # per colonne\n",
    "print(np.sort(data, axis=None)) # array appiattito e ordinato globalmente"
   ]
  },
  {
   "cell_type": "markdown",
   "id": "7d142297",
   "metadata": {},
   "source": [
    "### Concatenazione"
   ]
  },
  {
   "cell_type": "code",
   "execution_count": null,
   "id": "99a26407",
   "metadata": {},
   "outputs": [],
   "source": [
    "a = np.array([[4,8],[6,1]])\n",
    "b = np.array([[3,5],[7,2]])\n",
    "\n",
    "print(np.hstack((a, b)))            # orizzontale\n",
    "print(np.vstack((b, a)))            # verticale\n",
    "print(np.concatenate((a, b)))       # assieme, per righe\n",
    "print(np.concatenate((a, b), axis=None))  # array piatto"
   ]
  },
  {
   "cell_type": "markdown",
   "id": "0b338980",
   "metadata": {},
   "source": [
    "\n",
    "* Funzioni helper: `hstack`, `vstack`; generica: `concatenate`, sempre con una tupla di array.\n",
    "\n",
    "---\n",
    "\n",
    "## 4. Aggregazione (Aggregating)\n",
    "\n",
    "* Metodi utili per ridurre dimensioni:\n",
    "\n",
    "  * `.sum()`  — somma\n",
    "  * `.max()`  — massimo\n",
    "  * `.mean()` — media\n",
    "  * `.std()`  — deviazione standard\n",
    "* Accettano `axis` per aggregare lungo una dimensione specifica.\n",
    "\n",
    "Queste operazioni sono fondamentali per analisi statistiche e finanziarie con NumPy.\n"
   ]
  },
  {
   "cell_type": "markdown",
   "id": "cbeff302",
   "metadata": {},
   "source": [
    "# Introduzione a Matplotlib 📊\n",
    "\n",
    "Matplotlib è la libreria di visualizzazione più utilizzata in Python. Permette di creare grafici di alta qualità con poche righe di codice, ma offre anche un controllo preciso su ogni elemento visivo quando necessario.\n",
    "\n"
   ]
  },
  {
   "cell_type": "code",
   "execution_count": 22,
   "id": "0ed6506b",
   "metadata": {},
   "outputs": [],
   "source": [
    "# Importazione standard\n",
    "import matplotlib.pyplot as plt\n",
    "import numpy as np\n",
    "\n",
    "# Assicuriamo risultati riproducibili\n",
    "np.random.seed(42)"
   ]
  },
  {
   "cell_type": "markdown",
   "id": "0dc02c3f",
   "metadata": {},
   "source": [
    "\n",
    "\n",
    "## Gerarchia degli oggetti in Matplotlib\n",
    "\n",
    "Matplotlib si basa su una gerarchia di oggetti:\n",
    "\n",
    "1. **Figure**: il contenitore di alto livello che può contenere uno o più grafici\n",
    "2. **Axes**: il grafico vero e proprio con assi, titoli, ecc.\n",
    "3. **Elementi** più piccoli: linee, punti, testi, legende, ecc.\n",
    "\n",
    "![Anatomia di un grafico Matplotlib](https://matplotlib.org/stable/_images/anatomy.png)\n",
    "\n",
    "## Due approcci principali\n",
    "\n",
    "Matplotlib offre due stili di utilizzo:\n",
    "\n",
    "1. **Approccio statico** (pyplot): semplice e veloce per grafici base\n",
    "2. **Approccio orientato agli oggetti**: più flessibile per grafici complessi\n",
    "\n"
   ]
  },
  {
   "cell_type": "code",
   "execution_count": 23,
   "id": "fe506337",
   "metadata": {},
   "outputs": [
    {
     "data": {
      "image/png": "[encoded data removed]",
      "text/plain": [
       "<Figure size 1000x500 with 1 Axes>"
      ]
     },
     "metadata": {},
     "output_type": "display_data"
    }
   ],
   "source": [
    "# Esempio di approccio statico\n",
    "plt.figure(figsize=(10, 5))\n",
    "x = np.linspace(0, 10, 100)\n",
    "plt.plot(x, np.sin(x), label='Seno')\n",
    "plt.plot(x, np.cos(x), label='Coseno')\n",
    "plt.title(\"Funzioni trigonometriche\")\n",
    "plt.xlabel(\"x\")\n",
    "plt.ylabel(\"y\")\n",
    "plt.legend()\n",
    "plt.grid(True)\n",
    "plt.show()"
   ]
  },
  {
   "cell_type": "code",
   "execution_count": 24,
   "id": "d766b31f",
   "metadata": {},
   "outputs": [
    {
     "data": {
      "image/png": "[encoded data removed]",
      "text/plain": [
       "<Figure size 1000x500 with 1 Axes>"
      ]
     },
     "metadata": {},
     "output_type": "display_data"
    }
   ],
   "source": [
    "# Approccio orientato agli oggetti (più flessibile)\n",
    "fig, ax = plt.subplots(figsize=(10, 5))\n",
    "x = np.linspace(0, 10, 100)\n",
    "ax.plot(x, np.sin(x), label='Seno')\n",
    "ax.plot(x, np.cos(x), label='Coseno')\n",
    "ax.set_title(\"Funzioni trigonometriche\")\n",
    "ax.set_xlabel(\"x\")\n",
    "ax.set_ylabel(\"y\")\n",
    "ax.legend()\n",
    "ax.grid(True)\n",
    "plt.show()"
   ]
  },
  {
   "cell_type": "markdown",
   "id": "55d7fe34",
   "metadata": {},
   "source": [
    "\n",
    "\n",
    "\n",
    "\n",
    "## Grafici multipli con subplots\n",
    "\n",
    "`plt.subplots()` è il modo migliore per creare più grafici in una singola figura:\n",
    "\n"
   ]
  },
  {
   "cell_type": "code",
   "execution_count": null,
   "id": "6912a7a2",
   "metadata": {},
   "outputs": [],
   "source": [
    "# Creare una griglia 2x2 di grafici\n",
    "fig, axes = plt.subplots(2, 2, figsize=(10, 8))\n",
    "\n",
    "# Appiattire l'array di axes per semplicità\n",
    "ax1, ax2, ax3, ax4 = axes.flatten()\n",
    "\n",
    "# Grafico a linee\n",
    "x = np.linspace(0, 10, 100)\n",
    "ax1.plot(x, np.sin(x))\n",
    "ax1.set_title(\"Grafico a linee\")\n",
    "\n",
    "# Grafico a dispersione\n",
    "n = 50\n",
    "x = np.random.rand(n)\n",
    "y = np.random.rand(n)\n",
    "colors = np.random.rand(n)\n",
    "area = np.pi * (15 * np.random.rand(n))**2\n",
    "ax2.scatter(x, y, s=area, c=colors, alpha=0.5)\n",
    "ax2.set_title(\"Grafico a dispersione\")\n",
    "\n",
    "# Istogramma\n",
    "x = np.random.normal(size=1000)\n",
    "ax3.hist(x, bins=30)\n",
    "ax3.set_title(\"Istogramma\")\n",
    "\n",
    "# Grafico a barre\n",
    "categorie = ['A', 'B', 'C', 'D', 'E']\n",
    "valori = np.random.randint(10, 100, size=5)\n",
    "ax4.bar(categorie, valori)\n",
    "ax4.set_title(\"Grafico a barre\")\n",
    "\n",
    "# Aggiustare il layout\n",
    "fig.tight_layout()\n",
    "plt.show()"
   ]
  },
  {
   "cell_type": "markdown",
   "id": "d51bc631",
   "metadata": {},
   "source": [
    "\n",
    "\n",
    "## Personalizzazione dei grafici\n",
    "\n",
    "Matplotlib offre un controllo dettagliato su ogni elemento del grafico:\n",
    "\n"
   ]
  },
  {
   "cell_type": "code",
   "execution_count": null,
   "id": "c3341909",
   "metadata": {},
   "outputs": [],
   "source": [
    "# Esempio di personalizzazione avanzata\n",
    "fig, ax = plt.subplots(figsize=(10, 6))\n",
    "\n",
    "# Dati\n",
    "x = np.linspace(0, 10, 100)\n",
    "y1 = np.exp(-x/10) * np.sin(x)\n",
    "y2 = np.exp(-x/10) * np.cos(x)\n",
    "\n",
    "# Creare linee con stili personalizzati\n",
    "ax.plot(x, y1, 'b-', linewidth=2, label='$e^{-x/10} \\sin(x)$')\n",
    "ax.plot(x, y2, 'r--', linewidth=2, label='$e^{-x/10} \\cos(x)$')\n",
    "\n",
    "# Aggiungere riempimento sotto la curva\n",
    "ax.fill_between(x, y1, alpha=0.2)\n",
    "\n",
    "# Personalizzare assi e griglia\n",
    "ax.set_xlim(0, 10)\n",
    "ax.set_ylim(-1, 1)\n",
    "ax.grid(True, linestyle='--', alpha=0.7)\n",
    "\n",
    "# Aggiungere titolo e etichette\n",
    "ax.set_title('Onde smorzate', fontsize=16)\n",
    "ax.set_xlabel('Tempo (s)', fontsize=12)\n",
    "ax.set_ylabel('Ampiezza', fontsize=12)\n",
    "\n",
    "# Personalizzare la legenda\n",
    "ax.legend(loc='upper right', frameon=True, fancybox=True, shadow=True)\n",
    "\n",
    "# Aggiungere annotazione\n",
    "ax.annotate('Punto di interesse', \n",
    "            xy=(5, np.exp(-5/10)*np.sin(5)),\n",
    "            xytext=(6, 0.5),\n",
    "            arrowprops=dict(facecolor='black', shrink=0.05))\n",
    "\n",
    "plt.show()"
   ]
  },
  {
   "cell_type": "markdown",
   "id": "67503f06",
   "metadata": {},
   "source": [
    "\n",
    "\n",
    "## Integrazione con Pandas\n",
    "\n",
    "Matplotlib si integra perfettamente con Pandas:\n",
    "\n"
   ]
  },
  {
   "cell_type": "code",
   "execution_count": null,
   "id": "6e17d375",
   "metadata": {},
   "outputs": [],
   "source": [
    "# Esempio di visualizzazione con Pandas\n",
    "import pandas as pd\n",
    "\n",
    "# Creare un DataFrame di esempio (simile a quello clinico visto prima)\n",
    "df = pd.DataFrame({\n",
    "    'gruppo': ['A']*10 + ['B']*10 + ['C']*10,\n",
    "    'valore': np.random.normal(loc=[5, 7, 9], scale=[1, 1.5, 2], size=30)\n",
    "})\n",
    "\n",
    "# Visualizzazione grafica diretta da Pandas\n",
    "fig, ax = plt.subplots(1, 2, figsize=(12, 5))\n",
    "\n",
    "# Boxplot\n",
    "df.boxplot(column='valore', by='gruppo', ax=ax[0])\n",
    "ax[0].set_title('Boxplot per gruppo')\n",
    "ax[0].set_ylabel('Valore')\n",
    "\n",
    "# Grafico a barre dei valori medi per gruppo\n",
    "means = df.groupby('gruppo')['valore'].mean()\n",
    "ax[1].bar(means.index, means.values, yerr=df.groupby('gruppo')['valore'].std())\n",
    "ax[1].set_title('Media per gruppo')\n",
    "ax[1].set_xlabel('Gruppo')\n",
    "ax[1].set_ylabel('Valore medio')\n",
    "\n",
    "fig.suptitle('Confronto tra gruppi', fontsize=16)\n",
    "plt.tight_layout()\n",
    "plt.show()"
   ]
  },
  {
   "cell_type": "markdown",
   "id": "87a8e63c",
   "metadata": {},
   "source": [
    "\n",
    "\n",
    "## Consigli\n",
    "\n",
    "1. **Usa l'approccio orientato agli oggetti** (`fig, ax = plt.subplots()`) per grafici complessi\n",
    "2. **Impara a usare `tight_layout()`** per migliorare la spaziatura automaticamente\n",
    "3. **Salva i grafici** con `plt.savefig('nome_file.png', dpi=300)` per alta qualità\n",
    "4. **Esplora i diversi stili** con `plt.style.use('ggplot')` o altri stili predefiniti\n",
    "5. **Non dimenticare `plt.show()`** alla fine, specialmente quando lavori fuori da Jupyter\n",
    "\n",
    "Matplotlib può sembrare complessa all'inizio, ma una volta compresa la struttura gerarchica (Figure → Axes → elementi) e la differenza tra approccio statico e orientato agli oggetti, diventa uno strumento incredibilmente flessibile per la visualizzazione dei dati."
   ]
  }
 ],
 "metadata": {
  "kernelspec": {
   "display_name": ".venv",
   "language": "python",
   "name": "python3"
  },
  "language_info": {
   "codemirror_mode": {
    "name": "ipython",
    "version": 3
   },
   "file_extension": ".py",
   "mimetype": "text/x-python",
   "name": "python",
   "nbconvert_exporter": "python",
   "pygments_lexer": "ipython3",
   "version": "3.12.3"
  }
 },
 "nbformat": 4,
 "nbformat_minor": 5
}
