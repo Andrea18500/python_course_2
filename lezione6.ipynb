{
 "cells": [
  {
   "cell_type": "markdown",
   "id": "308c465a",
   "metadata": {},
   "source": [
    "| Esigenza tipica                                                  | Funzionalità Pandas                     | Quando serve                                                                |\n",
    "| ---------------------------------------------------------------- | --------------------------------------- | --------------------------------------------------------------------------- |\n",
    "| 1. **Importare** formati eterogenei (CSV, Excel, TSV, JSON, SQL) | `read_*()`                              | Ogni volta che i dati provengono da laboratori, EHR, registry o dispositivi |\n",
    "| 2. **Pulire** dati sporchi o parziali                            | `dropna`, `fillna`, `astype`, `replace` | Prima di qualsiasi statistica o ML                                          |\n",
    "| 3. **Ristrutturare** il dataset                                  | `melt`, `pivot`, `stack/unstack`        | Per allineare misure longitudinali o matrici di espressione                 |\n",
    "| 4. **Filtrare & sottogruppi**                                    | Boolean indexing, `query`, `groupby`    | Focus su un fenotipo, un trattamento, un gene                               |\n",
    "| 5. **Aggregare & statistiche rapide**                            | `groupby().agg()`, `describe`           | Report clinici, cruscotti QC                                                |\n",
    "| 6. **Merge/Join** di più fonti                                   | `merge`, `concat`                       | Integrare imaging + clinica + omics                                         |\n",
    "| 7. **Time series**                                               | `to_datetime`, `resample`, `rolling`    | Wearable, follow-up, ICU waveform                                           |\n"
   ]
  },
  {
   "cell_type": "markdown",
   "id": "f9cf36aa",
   "metadata": {},
   "source": [
    "### 🏥 1 | Analisi di dataset clinici multifattoriali\n",
    "(= studiare dati sanitari considerando più variabili contemporaneamente, come età, sesso, genetica, stile di vita, parametri fisiologici ...)\n",
    "\n",
    "Scenario\n",
    "Cartella clinica con: età, sesso, BMI, pressione S/D, HbA1c, diagnosi, outcome."
   ]
  },
  {
   "cell_type": "code",
   "execution_count": null,
   "id": "0190fa75",
   "metadata": {},
   "outputs": [],
   "source": [
    "import pandas as pd\n",
    "df = pd.read_csv(\"registry_diabete.csv\")\n",
    "df[\"diagnosi\"] = df[\"diagnosi\"].str.upper().str.strip()  # normalizzo\n",
    "stats = (df.groupby(\"diagnosi\")[[\"HbA1c\", \"pressione_S\", \"pressione_D\"]]\n",
    "           .mean()\n",
    "           .round(2))"
   ]
  },
  {
   "cell_type": "markdown",
   "id": "e2ea6a70",
   "metadata": {},
   "source": [
    "Utilità:\n",
    "- Pulizia nomenclatura diagnosi\n",
    "- Statistiche descrittive per reparto\n",
    "- Individuazione outlier (df[df[\"HbA1c\"]>12])\n",
    "- Esportazione rapida in Excel per il board clinico (stats.to_excel(\"summary.xlsx\"))\n",
    "\n",
    "{Tabella heat-map dei valori medi di HbA1c per diagnosi}"
   ]
  },
  {
   "cell_type": "markdown",
   "id": "0b5967e6",
   "metadata": {},
   "source": [
    "### 🧬 2 | Trascrittomica / RNA-seq\n",
    "Scenario\n",
    "Matrice genes × samples (>30 000 × 200)."
   ]
  },
  {
   "cell_type": "code",
   "execution_count": null,
   "id": "06d1d11a",
   "metadata": {},
   "outputs": [],
   "source": [
    "expr = pd.read_parquet(\"rna_seq.parquet\")  # veloce su big data\n",
    "# Filtra geni espressi\n",
    "expr = expr.loc[expr.mean(axis=1) > 1]\n",
    "corr = expr.T.corr(method=\"spearman\")"
   ]
  },
  {
   "cell_type": "markdown",
   "id": "479c8270",
   "metadata": {},
   "source": [
    "Utilità:\n",
    "- Lettura in Parquet → RAM-efficient\n",
    "- Filtri basati su media/varianza\n",
    "- Calcolo di reti di co-espressione\n",
    "- Output diretto verso Seaborn/Scanpy"
   ]
  },
  {
   "cell_type": "markdown",
   "id": "eb7d5d7d",
   "metadata": {},
   "source": [
    "### 🧠 3 | Imaging e Quantificazione\n",
    "Scenario\n",
    "CSV export da 3D Slicer: ID paziente, ROI, volume (mm³), densità (HU)."
   ]
  },
  {
   "cell_type": "code",
   "execution_count": null,
   "id": "8f485420",
   "metadata": {},
   "outputs": [],
   "source": [
    "img = pd.read_csv(\"slicer_ROI_metrics.csv\")\n",
    "lesioni = img.query(\"volume_mm3 > 500 & ROI == 'tumor'\")\n",
    "trend = (lesioni.groupby(\"patient_id\")\n",
    "                 .apply(lambda g: g.sort_values(\"scan_date\")\n",
    "                                    .assign(delta=g[\"volume_mm3\"].diff())))\n"
   ]
  },
  {
   "cell_type": "markdown",
   "id": "1e1c6314",
   "metadata": {},
   "source": [
    "Utilità:\n",
    "- Filtraggio rapido su soglia volumetrica\n",
    "- Calcolo delta-volume fra follow-up\n",
    "- Facilita il merge con outcome clinici"
   ]
  },
  {
   "cell_type": "markdown",
   "id": "6b28af33",
   "metadata": {},
   "source": [
    "### 🧫 4 | High-Content Screening (96-well, 384-well)\n",
    "Scenario\n",
    "Assorbanza OD a 0 h, 24 h, 48 h per 300 composti."
   ]
  },
  {
   "cell_type": "code",
   "execution_count": null,
   "id": "072ed88e",
   "metadata": {},
   "outputs": [],
   "source": [
    "raw = pd.read_excel(\"HCS_readout.xlsx\")\n",
    "pivot = raw.pivot_table(values=\"OD\",\n",
    "                        index=[\"compound_id\"],\n",
    "                        columns=[\"time_h\"])\n",
    "pivot[\"growth_%\"] = (pivot[48] - pivot[0]) / pivot[0] * 100\n",
    "top_hits = pivot.nlargest(10, \"growth_%\")"
   ]
  },
  {
   "cell_type": "markdown",
   "id": "8fae3146",
   "metadata": {},
   "source": [
    "Utilità\n",
    "- pivot_table rende il dataset “wide” per calcolo Δ\n",
    "- Rank dei top-hits per successiva validazione\n",
    "- Integrare annotazioni chimiche con merge\n",
    "\n",
    "{Foto di piastra 384-well con pozzi colorimetrici + barplot crescita}"
   ]
  },
  {
   "cell_type": "markdown",
   "id": "6e59cdc2",
   "metadata": {},
   "source": [
    "### 💉 5. Studi di Coorte Longitudinali\n",
    "Scenario:\n",
    "Dataset con pazienti seguiti per 5 anni, misurando outcome clinici (es. progressione di malattia, sopravvivenza, esiti)."
   ]
  },
  {
   "cell_type": "code",
   "execution_count": null,
   "id": "4c9ec7b1",
   "metadata": {},
   "outputs": [],
   "source": [
    "df[\"data_visita\"] = pd.to_datetime(df[\"data_visita\"])\n",
    "df.sort_values([\"paziente_id\", \"data_visita\"], inplace=True)\n",
    "\n",
    "\n",
    "cohort = pd.read_csv(\"coorte_cardiologia.csv\", parse_dates=[\"visit_date\"])\n",
    "cohort.sort_values([\"patient_id\", \"visit_date\"], inplace=True)\n",
    "cohort[\"years_from_baseline\"] = (cohort[\"visit_date\"] -\n",
    "                                 cohort.groupby(\"patient_id\")[\"visit_date\"].transform(\"first\")\n",
    "                                ).dt.days / 365.25"
   ]
  },
  {
   "cell_type": "markdown",
   "id": "d7673236",
   "metadata": {},
   "source": [
    "Utilità:\n",
    "- Ordinamento e calcolo di intervalli temporali\n",
    "- Analisi per paziente o sottogruppo\n",
    "- Calcolo della progressione (delta valori nel tempo)\n",
    "\n",
    "{Grafico temporale con andamento di biomarcatori in un paziente nel tempo}"
   ]
  }
 ],
 "metadata": {
  "language_info": {
   "name": "python"
  }
 },
 "nbformat": 4,
 "nbformat_minor": 5
}
